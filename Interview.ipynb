{
  "nbformat": 4,
  "nbformat_minor": 0,
  "metadata": {
    "colab": {
      "name": "Interview",
      "provenance": [],
      "collapsed_sections": [],
      "authorship_tag": "ABX9TyPzhNJnjhQg63jmSszZcE8C",
      "include_colab_link": true
    },
    "kernelspec": {
      "name": "python3",
      "display_name": "Python 3"
    }
  },
  "cells": [
    {
      "cell_type": "markdown",
      "metadata": {
        "id": "view-in-github",
        "colab_type": "text"
      },
      "source": [
        "<a href=\"https://colab.research.google.com/github/baroodb/code/blob/main/Interview.ipynb\" target=\"_parent\"><img src=\"https://colab.research.google.com/assets/colab-badge.svg\" alt=\"Open In Colab\"/></a>"
      ]
    },
    {
      "cell_type": "code",
      "metadata": {
        "id": "4wSZG5oGzgX-",
        "colab": {
          "base_uri": "https://localhost:8080/",
          "height": 108
        },
        "outputId": "187aa433-7923-4abe-8089-01b6cbda0b33"
      },
      "source": [
        "# first let's create a class we can use as decorator\n",
        "class NbCalls:\n",
        "  def __init__(self, f):\n",
        "    self.f = f\n",
        "    self.calls = 0\n",
        "\n",
        "  def __call__(self, *args, **kwargs):\n",
        "    self.calls += 1\n",
        "    print(f'Number of calls is {self.calls}')\n",
        "\n",
        "    return self.f(*args, **kwargs)\n",
        "@NbCalls\n",
        "def facto(n):\n",
        "  if n == 0:\n",
        "    return 1\n",
        "  else:\n",
        "    return n * facto(n-1)\n",
        "\n",
        "facto(3)"
      ],
      "execution_count": null,
      "outputs": [
        {
          "output_type": "stream",
          "text": [
            "Number of calls is 1\n",
            "Number of calls is 2\n",
            "Number of calls is 3\n",
            "Number of calls is 4\n"
          ],
          "name": "stdout"
        },
        {
          "output_type": "execute_result",
          "data": {
            "text/plain": [
              "6"
            ]
          },
          "metadata": {
            "tags": []
          },
          "execution_count": 4
        }
      ]
    },
    {
      "cell_type": "code",
      "metadata": {
        "id": "32QmxHx55MaL",
        "colab": {
          "base_uri": "https://localhost:8080/",
          "height": 54
        },
        "outputId": "12f89693-4a63-489c-bf66-23b8949fdbfd"
      },
      "source": [
        "#we can also implement the idea of closures\n",
        "def outer(x):\n",
        "\n",
        "  def inner(y):\n",
        "    return x*y \n",
        "  return inner\n",
        "\n",
        "inner_returned = outer(10)\n",
        "print(inner_returned(10))\n",
        "\n",
        "inner_returned.__closure__[0].cell_contents"
      ],
      "execution_count": null,
      "outputs": [
        {
          "output_type": "stream",
          "text": [
            "100\n"
          ],
          "name": "stdout"
        },
        {
          "output_type": "execute_result",
          "data": {
            "text/plain": [
              "10"
            ]
          },
          "metadata": {
            "tags": []
          },
          "execution_count": 7
        }
      ]
    },
    {
      "cell_type": "code",
      "metadata": {
        "id": "f_BWy9rE5xU-",
        "colab": {
          "base_uri": "https://localhost:8080/",
          "height": 35
        },
        "outputId": "375a40e5-812a-4616-f6c0-30d684ecd1f8"
      },
      "source": [
        "import time \n",
        "def timer(f):\n",
        "  def wrapper(*args, **kwargs):\n",
        "    start = time.time()\n",
        "    f(*args, **kwargs)\n",
        "    total_time = time.time()- start\n",
        "    return f'{f.__name__} took {total_time} to execute'\n",
        "  return wrapper\n",
        "\n",
        "@timer\n",
        "def facto(n):\n",
        "  if n == 0:\n",
        "    return 1\n",
        "  else:\n",
        "    return n * facto(n-1)\n",
        "\n",
        "facto(100)"
      ],
      "execution_count": null,
      "outputs": [
        {
          "output_type": "execute_result",
          "data": {
            "application/vnd.google.colaboratory.intrinsic+json": {
              "type": "string"
            },
            "text/plain": [
              "'facto took 0.0013141632080078125 to execute'"
            ]
          },
          "metadata": {
            "tags": []
          },
          "execution_count": 11
        }
      ]
    },
    {
      "cell_type": "code",
      "metadata": {
        "id": "7JcO57qbDwcv"
      },
      "source": [
        "def call_trace(f):\n",
        "  calls = 0\n",
        "  def wrapper(*args, **kwargs):\n",
        "    nonlocal calls \n",
        "    calls +=1\n",
        "    print(f'{calls} calls performed')\n",
        "    return f(*args, **kwargs)\n",
        "  return wrapper\n",
        "@call_trace\n",
        "def facto(n):\n",
        "  if n == 0:\n",
        "    return 1\n",
        "  else:\n",
        "    return n * facto(n-1)\n",
        "\n",
        "facto(100)"
      ],
      "execution_count": null,
      "outputs": []
    },
    {
      "cell_type": "code",
      "metadata": {
        "id": "IhDaOxuNHxbV",
        "colab": {
          "base_uri": "https://localhost:8080/"
        },
        "outputId": "872eabb3-feb6-4a06-f7e1-2b8209080a6a"
      },
      "source": [
        "def call_trace(f):\n",
        "\n",
        "  def wrapper(*args, **kwargs):\n",
        "    wrapper.nb_calls += 1\n",
        "    print(f'{wrapper.nb_calls} calls performed')\n",
        "    return f(*args, **kwargs)\n",
        "  wrapper.nb_calls = 0\n",
        "  return wrapper\n",
        "\n",
        "@call_trace\n",
        "def facto(n):\n",
        "  if n == 0:\n",
        "    return 1\n",
        "  else:\n",
        "    return n * facto(n-1)\n",
        "\n",
        "facto(10)"
      ],
      "execution_count": null,
      "outputs": [
        {
          "output_type": "stream",
          "text": [
            "1 calls performed\n",
            "2 calls performed\n",
            "3 calls performed\n",
            "4 calls performed\n",
            "5 calls performed\n",
            "6 calls performed\n",
            "7 calls performed\n",
            "8 calls performed\n",
            "9 calls performed\n",
            "10 calls performed\n",
            "11 calls performed\n"
          ],
          "name": "stdout"
        },
        {
          "output_type": "execute_result",
          "data": {
            "text/plain": [
              "3628800"
            ]
          },
          "metadata": {
            "tags": []
          },
          "execution_count": 9
        }
      ]
    },
    {
      "cell_type": "code",
      "metadata": {
        "id": "sgMe2yWHYCQK"
      },
      "source": [
        "# property and descriptors\n",
        "class Student:\n",
        "\n",
        "  def __init__(self, age):\n",
        "    self.__age = age\n",
        "\n",
        "  def get_age(self):\n",
        "    return self.__age\n",
        "  \n",
        "  def set_age(self, age):\n",
        "    self.__age = age\n",
        "  \n",
        "  age = property(get_age, set_age)\n",
        "\n",
        "std  = Student(20)"
      ],
      "execution_count": null,
      "outputs": []
    },
    {
      "cell_type": "code",
      "metadata": {
        "id": "4uI8iZK0YygG",
        "colab": {
          "base_uri": "https://localhost:8080/",
          "height": 35
        },
        "outputId": "651620a5-afc6-49b8-8b4c-31bf417ea7fb"
      },
      "source": [
        "std.age = 30\n",
        "std.age"
      ],
      "execution_count": null,
      "outputs": [
        {
          "output_type": "execute_result",
          "data": {
            "text/plain": [
              "30"
            ]
          },
          "metadata": {
            "tags": []
          },
          "execution_count": 27
        }
      ]
    },
    {
      "cell_type": "code",
      "metadata": {
        "id": "IxnLICLcTRRX",
        "colab": {
          "base_uri": "https://localhost:8080/",
          "height": 74
        },
        "outputId": "220e1390-085e-42a9-c654-e4a62768b4cf"
      },
      "source": [
        "def fibo(n, lookup):\n",
        "  if n == 0 or n == 1:\n",
        "    lookup[n] = n \n",
        "  \n",
        "  # what if n > 1 \n",
        "  if lookup[n] is None:\n",
        "    lookup[n] = fibo(n-1, lookup) + fibo(n-2, lookup)\n",
        "  return lookup[n]\n",
        "\n",
        "lookup = [None]*101\n",
        "n = 50\n",
        "result = fibo(n, lookup)\n",
        "print(result)\n",
        "print(lookup)"
      ],
      "execution_count": null,
      "outputs": [
        {
          "output_type": "stream",
          "text": [
            "12586269025\n",
            "[0, 1, 1, 2, 3, 5, 8, 13, 21, 34, 55, 89, 144, 233, 377, 610, 987, 1597, 2584, 4181, 6765, 10946, 17711, 28657, 46368, 75025, 121393, 196418, 317811, 514229, 832040, 1346269, 2178309, 3524578, 5702887, 9227465, 14930352, 24157817, 39088169, 63245986, 102334155, 165580141, 267914296, 433494437, 701408733, 1134903170, 1836311903, 2971215073, 4807526976, 7778742049, 12586269025, None, None, None, None, None, None, None, None, None, None, None, None, None, None, None, None, None, None, None, None, None, None, None, None, None, None, None, None, None, None, None, None, None, None, None, None, None, None, None, None, None, None, None, None, None, None, None, None, None, None]\n"
          ],
          "name": "stdout"
        }
      ]
    },
    {
      "cell_type": "code",
      "metadata": {
        "id": "gpM1GwEYI_vi"
      },
      "source": [
        "#arr = [3, 10, 2, 11]\n",
        "\n",
        "def _list(arr, n):\n",
        "\n",
        "  #\n",
        "  global maximum\n",
        "\n",
        "  if n == 1:\n",
        "    return 1\n",
        "  \n",
        "  # maxEndingHere is the length of the Longest increasing \n",
        "  # subelements ending at n-1\n",
        "\n",
        "  maxEndingHere = 1\n",
        "  # After that we need to recursively compute LIS\n",
        "  # ending at arr[0], arr[1], ----, arr[n-1]\n",
        "  for i in range(1, n):\n",
        "    result = _list(arr, i)\n",
        "    if (arr[i-1] < arr [n-1]) and (maxEndingHere < result + 1):\n",
        "      maxEndingHere = result + 1\n",
        "  \n",
        "  maximum = max(maximum , maxEndingHere)\n",
        "\n",
        "  return maxEndingHere\n",
        "\n",
        "def list(arr):\n",
        "\n",
        "  global maximum\n",
        "\n",
        "  n = len(arr)\n",
        "\n",
        "  maximum = 1\n",
        "\n",
        "  _list(arr, n)\n",
        "\n",
        "  return maximum"
      ],
      "execution_count": null,
      "outputs": []
    },
    {
      "cell_type": "code",
      "metadata": {
        "id": "J7khcdY7SSgA",
        "colab": {
          "base_uri": "https://localhost:8080/",
          "height": 35
        },
        "outputId": "649046d6-095c-4c77-a4bf-fd6499d82ef8"
      },
      "source": [
        "arr = [3, 10, 2, 11]\n",
        "res = list(arr)\n",
        "res"
      ],
      "execution_count": null,
      "outputs": [
        {
          "output_type": "execute_result",
          "data": {
            "text/plain": [
              "3"
            ]
          },
          "metadata": {
            "tags": []
          },
          "execution_count": 10
        }
      ]
    },
    {
      "cell_type": "code",
      "metadata": {
        "id": "JgSlAHEf7jdr",
        "colab": {
          "base_uri": "https://localhost:8080/"
        },
        "outputId": "48cb4d71-9b53-4283-b27d-a0a5fcf1d1ae"
      },
      "source": [
        "class  NbCalls:\n",
        "\n",
        "  def __init__(self, f):\n",
        "    self.calls = 0\n",
        "    self.f = f \n",
        "  def __call__(self, *args , **kwargs):\n",
        "    self.calls += 1\n",
        "    print(f'the function {self.f.__name__} has been called {self.calls} times ')\n",
        "    return self.f(*args, **kwargs)\n",
        "\n",
        "@NbCalls\n",
        "def facto(n):\n",
        "  if n == 0:\n",
        "    return 1\n",
        "  return n * facto(n-1)\n",
        "\n",
        "facto(5)"
      ],
      "execution_count": null,
      "outputs": [
        {
          "output_type": "stream",
          "text": [
            "the function facto has been called 1 times \n",
            "the function facto has been called 2 times \n",
            "the function facto has been called 3 times \n",
            "the function facto has been called 4 times \n",
            "the function facto has been called 5 times \n",
            "the function facto has been called 6 times \n"
          ],
          "name": "stdout"
        },
        {
          "output_type": "execute_result",
          "data": {
            "text/plain": [
              "120"
            ]
          },
          "metadata": {
            "tags": []
          },
          "execution_count": 8
        }
      ]
    },
    {
      "cell_type": "code",
      "metadata": {
        "id": "DXT-lbHfD_Fw"
      },
      "source": [
        "def NbCalls_Using_function(f):\n",
        "  nb_calls = 0 \n",
        "  def wrapper(*args, **kwargs):\n",
        "    nonlocal nb_calls\n",
        "    nb_calls += 1\n",
        "\n",
        "    print(f'The function {f.__name__} has been called {nb_calls} times')\n",
        "    \n",
        "    return f(*args, **kwargs)\n",
        "  return wrapper"
      ],
      "execution_count": null,
      "outputs": []
    },
    {
      "cell_type": "code",
      "metadata": {
        "id": "hI053wAYZ0Fr",
        "colab": {
          "base_uri": "https://localhost:8080/"
        },
        "outputId": "0d652e6c-f00f-4d45-fe75-7ecbcaefa17d"
      },
      "source": [
        "\n",
        "@NbCalls_Using_function\n",
        "def facto1(n):\n",
        "  if n == 0:\n",
        "    return 1\n",
        "  return n * facto1(n-1)\n",
        "\n",
        "facto1(5)"
      ],
      "execution_count": null,
      "outputs": [
        {
          "output_type": "stream",
          "text": [
            "The function facto1 has been called 1 times\n",
            "The function facto1 has been called 2 times\n",
            "The function facto1 has been called 3 times\n",
            "The function facto1 has been called 4 times\n",
            "The function facto1 has been called 5 times\n",
            "The function facto1 has been called 6 times\n"
          ],
          "name": "stdout"
        },
        {
          "output_type": "execute_result",
          "data": {
            "text/plain": [
              "120"
            ]
          },
          "metadata": {
            "tags": []
          },
          "execution_count": 12
        }
      ]
    },
    {
      "cell_type": "code",
      "metadata": {
        "id": "CEM3QtfN7sRr"
      },
      "source": [
        "import array\n",
        "arr = array.array('B', [1, 2, 3, 127, 8])\n",
        "\n",
        "arr.append(125)\n",
        "arr.pop()\n",
        "arr.pop()"
      ],
      "execution_count": null,
      "outputs": []
    },
    {
      "cell_type": "code",
      "metadata": {
        "id": "Xj7xZyYb9DzH",
        "colab": {
          "base_uri": "https://localhost:8080/"
        },
        "outputId": "7c1b66a0-e42a-4d73-9aa4-5498f503589b"
      },
      "source": [
        "mset = set()\n",
        "mset.add(20)\n",
        "mset.add(50)\n",
        "mset.update(arr)\n",
        "mset"
      ],
      "execution_count": null,
      "outputs": [
        {
          "output_type": "execute_result",
          "data": {
            "text/plain": [
              "{1, 2, 3, 20, 50, 127}"
            ]
          },
          "metadata": {
            "tags": []
          },
          "execution_count": 13
        }
      ]
    },
    {
      "cell_type": "code",
      "metadata": {
        "id": "TST4tkIM-sxW",
        "colab": {
          "base_uri": "https://localhost:8080/"
        },
        "outputId": "d3890b44-2483-4e2b-88d5-9411caf30018"
      },
      "source": [
        "# common set operations\n",
        "# Union\n",
        "union = mset.union({230})\n",
        "union"
      ],
      "execution_count": null,
      "outputs": [
        {
          "output_type": "execute_result",
          "data": {
            "text/plain": [
              "{1, 2, 3, 20, 50, 127, 230}"
            ]
          },
          "metadata": {
            "tags": []
          },
          "execution_count": 15
        }
      ]
    },
    {
      "cell_type": "code",
      "metadata": {
        "id": "JltmPzTG_CHq",
        "colab": {
          "base_uri": "https://localhost:8080/"
        },
        "outputId": "b86e7e77-4641-4462-8716-202d5bf95906"
      },
      "source": [
        "diff = mset.difference({127, 230})\n",
        "diff"
      ],
      "execution_count": null,
      "outputs": [
        {
          "output_type": "execute_result",
          "data": {
            "text/plain": [
              "{1, 2, 3, 20, 50}"
            ]
          },
          "metadata": {
            "tags": []
          },
          "execution_count": 16
        }
      ]
    },
    {
      "cell_type": "code",
      "metadata": {
        "id": "n2NENUEk_QLT",
        "colab": {
          "base_uri": "https://localhost:8080/"
        },
        "outputId": "0bd34567-4131-43c2-e710-9df54848eeba"
      },
      "source": [
        "inter = mset.intersection({127, 230, 1000})\n",
        "inter"
      ],
      "execution_count": null,
      "outputs": [
        {
          "output_type": "execute_result",
          "data": {
            "text/plain": [
              "{127}"
            ]
          },
          "metadata": {
            "tags": []
          },
          "execution_count": 18
        }
      ]
    },
    {
      "cell_type": "code",
      "metadata": {
        "id": "Kk20sgtK_o_P",
        "colab": {
          "base_uri": "https://localhost:8080/"
        },
        "outputId": "12bc9d31-4404-4fcf-d93a-e56631122b85"
      },
      "source": [
        "dico = dict({1: 100, 2:200, 3:300, 4:400})\n",
        "dico.keys()\n",
        "dico.values()\n",
        "dico.items()\n",
        "dico.popitem()"
      ],
      "execution_count": null,
      "outputs": [
        {
          "output_type": "execute_result",
          "data": {
            "text/plain": [
              "(4, 400)"
            ]
          },
          "metadata": {
            "tags": []
          },
          "execution_count": 31
        }
      ]
    },
    {
      "cell_type": "code",
      "metadata": {
        "id": "XCNepAN4A8Ad",
        "colab": {
          "base_uri": "https://localhost:8080/"
        },
        "outputId": "3c01a0ad-e0b3-41bb-9bb5-f7d956bdbc63"
      },
      "source": [
        "#Lets us implement the lifo data structure\n",
        "class Stack:\n",
        "  \"\"\"\n",
        "  Complexity \n",
        "  -- create ----> O(n) since we can initialize \n",
        "     with n elements \n",
        "  -- len() ----> O(1)\n",
        "  -- push ----> O(1)\n",
        "  -- pop ---->O(1)\n",
        "\n",
        "  \"\"\"\n",
        "  def __init__(self, data = None):\n",
        "    self.data = data\n",
        "\n",
        "  def __len__(self):\n",
        "    return len(self.data)\n",
        "  \n",
        "  def push(self, data):\n",
        "    return self.data.append(data)\n",
        "  \n",
        "  def pop(self):\n",
        "    return self.data.pop()\n",
        "  \n",
        "  def isEmpty(self):\n",
        "    return len(self.data) == 0\n",
        "\n",
        "stack = Stack([1, 2, 3])\n",
        "stack.push(100)\n",
        "stack.push(1000)\n",
        "print(len(stack))\n",
        "stack.pop()\n",
        "stack.isEmpty()"
      ],
      "execution_count": null,
      "outputs": [
        {
          "output_type": "stream",
          "text": [
            "5\n"
          ],
          "name": "stdout"
        },
        {
          "output_type": "execute_result",
          "data": {
            "text/plain": [
              "False"
            ]
          },
          "metadata": {
            "tags": []
          },
          "execution_count": 45
        }
      ]
    },
    {
      "cell_type": "code",
      "metadata": {
        "id": "po-5QrlKJbPM"
      },
      "source": [
        "class Queue: \n",
        "  \n",
        "  def __init__(self):\n",
        "    self.data = []\n",
        "  \n",
        "  def __len__(self):\n",
        "    return len(self.data)\n",
        "\n",
        "  def push(self, data):\n",
        "    return self.data.append(data)\n",
        "  \n",
        "  def pop(self):\n",
        "    return self.data.pop(0)\n",
        "  \n",
        "  def isEmpty(self): \n",
        "    return len(self.data) == 0\n",
        "\n",
        "queue = Queue()\n",
        "queue.isEmpty()\n",
        "queue.push(100)\n",
        "queue.push(200)\n",
        "queue.push(300)\n",
        "queue.pop()"
      ],
      "execution_count": null,
      "outputs": []
    },
    {
      "cell_type": "code",
      "metadata": {
        "id": "-g7g0AgGK3GB"
      },
      "source": [
        "# LinkedList implementation\n",
        "class Node:\n",
        "\n",
        "  def __init__(self, data=None):\n",
        "    self.data = data\n",
        "    self.next = None\n",
        "\n",
        "\n",
        "\n",
        "class LinkedList:\n",
        "\n",
        "  def __init__(self):\n",
        "    self.headNode = Node()\n",
        "\n",
        "  # append \n",
        "  def append(self, data):\n",
        "    node = Node(data)\n",
        "    # Lets now find where we should insert this element\n",
        "    #Base case \n",
        "    if self.headNode.next is None:\n",
        "      self.headNode.next = node\n",
        "      return\n",
        "\n",
        "    cur_node = self.headNode\n",
        "\n",
        "    while cur_node.next is not None:\n",
        "      cur_node = cur_node.next\n",
        "    cur_node.next = node\n",
        "\n",
        "  # length \n",
        "  def __len__(self):\n",
        "    cur_node = self.headNode\n",
        "    count = 0 \n",
        "    while cur_node.next is not None:\n",
        "      cur_node = cur_node.next\n",
        "      count += 1\n",
        "    return count\n",
        "  \n",
        "  #print \n",
        "  def print(self):\n",
        "    data = []\n",
        "    cur_node = self.headNode\n",
        "    while cur_node.next is not None:\n",
        "      cur_node = cur_node.next\n",
        "      data.append(cur_node.data)\n",
        "    return data\n",
        "\n",
        "  #insert \n",
        "  def insert(self, data, position):\n",
        "    node = Node(data)\n",
        "    cur_node = self.headNode\n",
        "    prev_node = None\n",
        "    cur_pos = -1\n",
        "    while True:\n",
        "      prev_node = cur_node\n",
        "      cur_node = cur_node.next\n",
        "      cur_pos += 1\n",
        "      if cur_pos == position:\n",
        "        break\n",
        "      \n",
        "    prev_node.next = node\n",
        "    node.next = cur_node\n",
        "\n",
        "  #delete \n",
        "  def pop(self, position):\n",
        "    cur_node = self.headNode\n",
        "    cur_pos = -1\n",
        "    prev_node = None\n",
        "    while True:\n",
        "      prev_node = cur_node\n",
        "      cur_node = cur_node.next\n",
        "      cur_pos += 1\n",
        "      if cur_pos == position:\n",
        "        break\n",
        "    prev_node.next = cur_node.next\n"
      ],
      "execution_count": null,
      "outputs": []
    },
    {
      "cell_type": "code",
      "metadata": {
        "id": "QI8hQCl8Mh2H",
        "colab": {
          "base_uri": "https://localhost:8080/"
        },
        "outputId": "8a31dc71-b162-4227-da39-54f66f42c887"
      },
      "source": [
        "linkedList = LinkedList()\n",
        "linkedList.append(10)\n",
        "linkedList.append(20)\n",
        "len(linkedList)\n",
        "linkedList.print()\n",
        "linkedList.insert(30, 1)\n",
        "linkedList.insert(50, 3)\n",
        "linkedList.print()\n",
        "linkedList.pop(0)\n",
        "linkedList.print()"
      ],
      "execution_count": null,
      "outputs": [
        {
          "output_type": "execute_result",
          "data": {
            "text/plain": [
              "[30, 20, 50]"
            ]
          },
          "metadata": {
            "tags": []
          },
          "execution_count": 81
        }
      ]
    },
    {
      "cell_type": "code",
      "metadata": {
        "id": "vBXKX1j1Zdwq",
        "colab": {
          "base_uri": "https://localhost:8080/",
          "height": 35
        },
        "outputId": "0802139c-bbae-4aaa-d02e-bc24585138a2"
      },
      "source": [
        "try:\n",
        "  2/0\n",
        "except Exception as e:\n",
        "  print(e)"
      ],
      "execution_count": null,
      "outputs": [
        {
          "output_type": "stream",
          "text": [
            "division by zero\n"
          ],
          "name": "stdout"
        }
      ]
    },
    {
      "cell_type": "code",
      "metadata": {
        "id": "EEzqyGDsTE3I",
        "colab": {
          "base_uri": "https://localhost:8080/",
          "height": 35
        },
        "outputId": "dca5d147-ebae-4557-ccdb-67868af08f55"
      },
      "source": [
        "class Student:\n",
        "\n",
        "  def __init__(self, age):\n",
        "    self.age = age\n",
        "    if age < 18 :\n",
        "      raise AgeLimitError(\"The age is less than 18\")\n",
        "\n",
        "class AgeLimitError(Exception):\n",
        "  pass\n",
        "  \n",
        "try:\n",
        "  student = Student(17)\n",
        "except AgeLimitError as e:\n",
        "  print(e)"
      ],
      "execution_count": null,
      "outputs": [
        {
          "output_type": "stream",
          "text": [
            "The age is less than 18\n"
          ],
          "name": "stdout"
        }
      ]
    },
    {
      "cell_type": "code",
      "metadata": {
        "id": "aOhwp2Yfg6Yr",
        "colab": {
          "base_uri": "https://localhost:8080/",
          "height": 72
        },
        "outputId": "3eca0672-a646-4497-d7d5-881c9e3c293f"
      },
      "source": [
        "name = \"Fatma\"\n",
        "age = 55\n",
        "\n",
        "def function1():\n",
        "\n",
        "  global name \n",
        "  global age\n",
        "  name = 'Mamadou'\n",
        "  age = 20\n",
        "  print(f\"from  the function1 name={name}, age = {age} \")\n",
        "\n",
        "def function2():\n",
        "  global age \n",
        "  global name\n",
        "  name = \"Barou\"\n",
        "  age = 100\n",
        "  print(f\"from  the function2 name={name}, age = {age} \")\n",
        "\n",
        "function1()\n",
        "function2()\n",
        "\n",
        "name"
      ],
      "execution_count": null,
      "outputs": [
        {
          "output_type": "stream",
          "text": [
            "from  the function1 name=Mamadou, age = 20 \n",
            "from  the function2 name=Barou, age = 100 \n"
          ],
          "name": "stdout"
        },
        {
          "output_type": "execute_result",
          "data": {
            "application/vnd.google.colaboratory.intrinsic+json": {
              "type": "string"
            },
            "text/plain": [
              "'Barou'"
            ]
          },
          "metadata": {
            "tags": []
          },
          "execution_count": 12
        }
      ]
    },
    {
      "cell_type": "code",
      "metadata": {
        "id": "BbOD4eIli27S"
      },
      "source": [
        "name = \"Fatma\"\n",
        "age = 55\n",
        "\n",
        "def function1():\n",
        "\n",
        "  global name \n",
        "  global age\n",
        "  name = 'Mamadou'\n",
        "  age = 20\n",
        "  print(f\"from  the function1 name={name}, age = {age} \")\n",
        "\n",
        "function1()\n",
        "\n",
        "name"
      ],
      "execution_count": null,
      "outputs": []
    },
    {
      "cell_type": "code",
      "metadata": {
        "id": "zEo6b-oDjftK"
      },
      "source": [
        "arr = [1, 2, 3, 4, 5, 6, 7]\n"
      ],
      "execution_count": null,
      "outputs": []
    },
    {
      "cell_type": "code",
      "metadata": {
        "id": "ynPaBpLWziAW"
      },
      "source": [
        "class Node:\n",
        "  def __init__(self, data):\n",
        "    self.data = data\n",
        "    self.left = None\n",
        "    self.right = None\n",
        "\n",
        "def bst_create(arr):\n",
        "  # the base case is when the \n",
        "  # array gets empty\n",
        "  if len(arr) == 0:\n",
        "    return \n",
        "  mid = len(arr)//2\n",
        "  root = Node(arr[mid])\n",
        "  root.left = bst_create(arr[:mid])\n",
        "  root.right = bst_create(arr[mid+1:])\n",
        "\n",
        "  return root\n",
        "\n",
        "def preOrder(root):\n",
        "\n",
        "  # base case \n",
        "  if root == None:\n",
        "    return\n",
        "  print(root.data)\n",
        "  preOrder(root.left)\n",
        "  preOrder(root.right)\n",
        "\n",
        "\n",
        "def inOrder(root):\n",
        "  if root is None:\n",
        "    return\n",
        "  inOrder(root.left)\n",
        "  print(root.data)\n",
        "  inOrder(root.right)\n",
        "\n",
        "def postOrder(root):\n",
        "  if root is None:\n",
        "    return\n",
        "  postOrder(root.left)\n",
        "  postOrder(root.right)\n",
        "  print(root.data)\n",
        "\n",
        "def insert(root, data):\n",
        "  if root is None :\n",
        "    return Node(data)\n",
        "  else:\n",
        "    if root.data == data:\n",
        "      return root\n",
        "    elif root.data > data:\n",
        "      root.left = insert(root.left, data)\n",
        "    else:\n",
        "      root.right = insert(root.right, data)\n",
        "\n",
        "  return root"
      ],
      "execution_count": null,
      "outputs": []
    },
    {
      "cell_type": "code",
      "metadata": {
        "id": "-cNcO1Sv4YHV",
        "colab": {
          "base_uri": "https://localhost:8080/",
          "height": 490
        },
        "outputId": "43ca2980-409a-4dc3-be02-77aec3432961"
      },
      "source": [
        "root = bst_create(arr)\n",
        "root = insert(root, 10)\n",
        "preOrder(root)\n",
        "print('----------------')\n",
        "inOrder(root)\n",
        "print('----------------')\n",
        "postOrder(root)"
      ],
      "execution_count": null,
      "outputs": [
        {
          "output_type": "stream",
          "text": [
            "4\n",
            "2\n",
            "1\n",
            "3\n",
            "6\n",
            "5\n",
            "7\n",
            "10\n",
            "----------------\n",
            "1\n",
            "2\n",
            "3\n",
            "4\n",
            "5\n",
            "6\n",
            "7\n",
            "10\n",
            "----------------\n",
            "1\n",
            "3\n",
            "2\n",
            "5\n",
            "10\n",
            "7\n",
            "6\n",
            "4\n"
          ],
          "name": "stdout"
        }
      ]
    },
    {
      "cell_type": "code",
      "metadata": {
        "id": "FJJBzWAYxEhs",
        "colab": {
          "base_uri": "https://localhost:8080/",
          "height": 35
        },
        "outputId": "f0734a6b-d44b-4e87-e16c-997d2deb4d79"
      },
      "source": [
        "arr = [1, 2, -3, -2, -1, 3]\n",
        "\n",
        "def findSubArray(arr):\n",
        "\n",
        "  result = set()\n",
        "\n",
        "  for i in range(len(arr)):\n",
        "    for j in range(i, len(arr)):\n",
        "      for k in range(j, len(arr)):\n",
        "        if arr[i]+arr[j]+arr[k] == 0:\n",
        "          result.add((arr[i], arr[j], arr[k]))\n",
        "  return result\n",
        "\n",
        "\n",
        "result = findSubArray(arr)\n",
        "result"
      ],
      "execution_count": null,
      "outputs": [
        {
          "output_type": "execute_result",
          "data": {
            "text/plain": [
              "{(-2, -1, 3), (1, 1, -2), (1, 2, -3), (2, -1, -1)}"
            ]
          },
          "metadata": {
            "tags": []
          },
          "execution_count": 3
        }
      ]
    },
    {
      "cell_type": "code",
      "metadata": {
        "id": "tWU4lTlv0KqY",
        "colab": {
          "base_uri": "https://localhost:8080/",
          "height": 35
        },
        "outputId": "38ab8414-3957-4556-c128-ed4aeac156f9"
      },
      "source": [
        "def findConsecutive(arr):\n",
        "  \n",
        "  hashmap = dict()\n",
        "  msum = 0\n",
        "\n",
        "  output = []\n",
        "  for i in range(len(arr)):\n",
        "\n",
        "    msum += arr[i]\n",
        "\n",
        "    #case of the direct sum\n",
        "\n",
        "    if msum == 0 :\n",
        "      output.append((0, i))\n",
        "    \n",
        "    already = []\n",
        "    \n",
        "    if msum in hashmap:\n",
        "      already = hashmap.get(msum)\n",
        "      for index in range(len(already)):\n",
        "        output.append((already[index]+1, i))\n",
        "\n",
        "    already.append(i)\n",
        "    hashmap[msum] = already\n",
        "\n",
        "  return output\n",
        "\n",
        "result = findConsecutive(arr)\n",
        "result"
      ],
      "execution_count": null,
      "outputs": [
        {
          "output_type": "execute_result",
          "data": {
            "text/plain": [
              "[(0, 2), (0, 5), (3, 5)]"
            ]
          },
          "metadata": {
            "tags": []
          },
          "execution_count": 7
        }
      ]
    },
    {
      "cell_type": "code",
      "metadata": {
        "id": "dQ1z9bDxOyx6",
        "colab": {
          "base_uri": "https://localhost:8080/",
          "height": 35
        },
        "outputId": "b30d6133-2d79-4f82-e0f8-2e37eb479d80"
      },
      "source": [
        "arr = [1, 3, 2, 6, 1, 2]\n",
        "\n",
        "\n",
        "def findPairs(arr, n, k):\n",
        "\n",
        "  result = set()\n",
        "\n",
        "  for i in range(n):\n",
        "    for j in range(i+1,n):\n",
        "\n",
        "      if (arr[i]+arr[j]) % k == 0:\n",
        "        result.add((i, j))\n",
        "\n",
        "\n",
        "  return result\n",
        "\n",
        "result = findPairs(arr, 6, 3)\n",
        "result \n",
        "  "
      ],
      "execution_count": null,
      "outputs": [
        {
          "output_type": "execute_result",
          "data": {
            "text/plain": [
              "{(0, 2), (0, 5), (1, 3), (2, 4), (4, 5)}"
            ]
          },
          "metadata": {
            "tags": []
          },
          "execution_count": 5
        }
      ]
    }
  ]
}