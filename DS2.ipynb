{
  "nbformat": 4,
  "nbformat_minor": 0,
  "metadata": {
    "colab": {
      "name": "DS2",
      "provenance": [],
      "collapsed_sections": [],
      "authorship_tag": "ABX9TyMahYqxxlJw2ICXlP2Q6cv2",
      "include_colab_link": true
    },
    "kernelspec": {
      "name": "python3",
      "display_name": "Python 3"
    }
  },
  "cells": [
    {
      "cell_type": "markdown",
      "metadata": {
        "id": "view-in-github",
        "colab_type": "text"
      },
      "source": [
        "<a href=\"https://colab.research.google.com/github/baroodb/code/blob/main/DS2.ipynb\" target=\"_parent\"><img src=\"https://colab.research.google.com/assets/colab-badge.svg\" alt=\"Open In Colab\"/></a>"
      ]
    },
    {
      "cell_type": "code",
      "metadata": {
        "id": "1xqZqRb8-8BX"
      },
      "source": [
        "class Node:\n",
        "  def __init__(self, data):\n",
        "    self.data = data\n",
        "    self.left = None\n",
        "    self.right = None\n",
        "\n",
        "# Queue class\n",
        "class Queue(object):\n",
        "  def __init__(self):\n",
        "    self.items =[]\n",
        "  \n",
        "  def enqueue(self, data):\n",
        "    self.items.append(data)\n",
        "  \n",
        "  def is_empty(self):\n",
        "    return (len(self.items) == 0)\n",
        "\n",
        "  def peek(self):\n",
        "    if self.is_empty():\n",
        "      return\n",
        "    return self.items[0]\n",
        "\n",
        "  def dequeue(self):\n",
        "    if self.is_empty():\n",
        "      return\n",
        "    return self.items.pop(0)\n",
        "\n",
        "  def __len__(self):\n",
        "    return len(self.items)\n",
        "# Stack class \n",
        "class Stack(object):\n",
        "  def __init__(self):\n",
        "    self.items = list()\n",
        "\n",
        "  def push(self, data):\n",
        "    self.items.append(data)\n",
        "\n",
        "  def peek(self):\n",
        "    return self.items[-1]\n",
        "  \n",
        "  def pop(self):\n",
        "    return self.items.pop()\n",
        "\n",
        "  def is_empty(self):\n",
        "    return len(self.items)==0\n",
        "\n",
        "\n",
        "class Btree:\n",
        "  def __init__(self, root):\n",
        "    self.root = Node(root)\n",
        "  \n",
        "  def preOrderTraversal(self, root, traversal):\n",
        "    if root:\n",
        "      traversal += (str(root.data) + '--')\n",
        "      traversal = self.preOrderTraversal(root.left, traversal)\n",
        "      traversal = self.preOrderTraversal(root.right, traversal)\n",
        "    return traversal\n",
        "\n",
        "  def inOrderTraversal(self, root, traversal):\n",
        "    if root:\n",
        "      traversal = self.inOrderTraversal(root.left, traversal)\n",
        "      traversal += (str(root.data) + '--')\n",
        "      traversal = self.inOrderTraversal(root.right, traversal)\n",
        "\n",
        "    return traversal \n",
        "\n",
        "  def postOrderTraversal(self, root, traversal):\n",
        "    if root:\n",
        "      traversal = self.postOrderTraversal(root.left, traversal)\n",
        "      traversal = self.postOrderTraversal(root.right, traversal)\n",
        "      traversal += (str(root.data) + '--')\n",
        "      \n",
        "    return traversal\n",
        "\n",
        "  def levelOrderTraversal(self, root):\n",
        "    if root:\n",
        "      traversal = ''\n",
        "      queue = Queue()\n",
        "      queue.enqueue(root)\n",
        "      \n",
        "      # here we start looping over the queue\n",
        "      while len(queue) > 0:\n",
        "        traversal += (str(queue.peek().data)+'--')\n",
        "        cur = queue.dequeue()\n",
        "        if cur.left:\n",
        "          queue.enqueue(cur.left)\n",
        "        if cur.right:\n",
        "          queue.enqueue(cur.right)\n",
        "      return traversal\n",
        "\n",
        "  def reversedLevelTraversal(self, root):\n",
        "    if root:\n",
        "      queue = Queue()\n",
        "      stack = Stack()\n",
        "\n",
        "      \n",
        "      queue.enqueue(root)\n",
        "\n",
        "      while len(queue) > 0 :\n",
        "        node = queue.dequeue()\n",
        "        stack.push(node)\n",
        "        if node.right:\n",
        "          queue.enqueue(node.right)\n",
        "\n",
        "        if node.left:\n",
        "          queue.enqueue(node.left)\n",
        "      traversal =''\n",
        "      while not stack.is_empty():\n",
        "        traversal += (str(stack.pop().data) + '--')\n",
        "      return traversal\n",
        "  \n",
        "  def heightCalculate(self, node):\n",
        "    if not node:\n",
        "      return -1\n",
        "    left_side = self.heightCalculate(node.left)\n",
        "    right_side = self.heightCalculate(node.right)\n",
        "    return 1 + max(left_side, right_side)\n",
        "\n",
        "  def size(self, root):\n",
        "    if not root: \n",
        "      return 0 \n",
        "    return 1 + self.size(root.left) + self.size(root.right)"
      ],
      "execution_count": null,
      "outputs": []
    },
    {
      "cell_type": "code",
      "metadata": {
        "id": "4upmYacL7E-w",
        "colab": {
          "base_uri": "https://localhost:8080/"
        },
        "outputId": "007ec155-bd4b-44be-c8c5-77ad293b8237"
      },
      "source": [
        "btree = Btree('A')\n",
        "\n",
        "btree.root.left = Node('B')\n",
        "btree.root.right = Node('C')\n",
        "btree.root.left.left = Node('D')\n",
        "btree.root.left.right = Node('E')\n",
        "btree.root.right.left = Node('F')\n",
        "btree.root.right.right = Node('G')\n",
        "\n",
        "#print the preOrderTraversal \n",
        "btree.levelOrderTraversal(btree.root)\n",
        "\n",
        "btree = Btree(1)\n",
        "\n",
        "btree.root.left = Node(2)\n",
        "btree.root.right = Node(3)\n",
        "btree.root.left.left = Node(4)\n",
        "btree.root.left.left.left = Node(100)\n",
        "btree.root.left.right = Node(5)\n",
        "btree.root.right.left = Node(6)\n",
        "btree.root.right.right = Node(7)\n",
        "\n",
        "btree.levelOrderTraversal(btree.root)\n",
        "btree.reversedLevelTraversal(btree.root)\n",
        "\n",
        "btree.heightCalculate(btree.root)\n",
        "btree.size(btree.root)"
      ],
      "execution_count": null,
      "outputs": [
        {
          "output_type": "execute_result",
          "data": {
            "text/plain": [
              "8"
            ]
          },
          "metadata": {
            "tags": []
          },
          "execution_count": 23
        }
      ]
    },
    {
      "cell_type": "code",
      "metadata": {
        "id": "mKmtndgdrt7V"
      },
      "source": [
        "def bsearch(arr, low, high, value):\n",
        "  #base condition:\n",
        "  if low > high:\n",
        "    return -1\n",
        "  mid = (low+high)//2\n",
        "  if arr[mid] == value:\n",
        "    return mid \n",
        "  elif value < arr[mid]:\n",
        "    return bsearch(arr, low, mid-1, value)\n",
        "  else:\n",
        "    return bsearch(arr, mid+1, high, value)\n"
      ],
      "execution_count": null,
      "outputs": []
    },
    {
      "cell_type": "code",
      "metadata": {
        "id": "ArgkVpqVrPXa"
      },
      "source": [
        "def insert(root, data):\n",
        "  if root is None:\n",
        "    return Node(data)\n",
        "  if root.data < data:\n",
        "    root.right = insert(root.right, data)\n",
        "  if root.data > data:\n",
        "    root.left = insert(root.left, data)\n",
        "  return root\n",
        "\n",
        "def traversal(root):\n",
        "  if root:\n",
        "  \n",
        "    traversal(root.left)\n",
        "    print(root.data)\n",
        "    traversal(root.right)\n",
        "  "
      ],
      "execution_count": null,
      "outputs": []
    },
    {
      "cell_type": "code",
      "metadata": {
        "id": "dVLaLlAKzATx",
        "colab": {
          "base_uri": "https://localhost:8080/"
        },
        "outputId": "da00e9b3-8fd8-46ee-9906-b9392647cd7a"
      },
      "source": [
        "root = None\n",
        "root = insert(root, 10)\n",
        "root = insert(root, 15)\n",
        "root = insert(root, 7)\n",
        "traversal(root)"
      ],
      "execution_count": null,
      "outputs": [
        {
          "output_type": "stream",
          "text": [
            "7\n",
            "10\n",
            "15\n"
          ],
          "name": "stdout"
        }
      ]
    },
    {
      "cell_type": "code",
      "metadata": {
        "id": "2cjIb9T6zMPt"
      },
      "source": [
        "sequence = 'Hello the world .......'\n",
        "sequence.count()"
      ],
      "execution_count": null,
      "outputs": []
    },
    {
      "cell_type": "code",
      "metadata": {
        "id": "RqOFs_Z8PBjj"
      },
      "source": [
        "# context managers\n",
        "\n",
        "with open('file.txt', 'w') as f:\n",
        "  f.write('This is the first file I am creating with context managers\\n')\n",
        "  f.write('This is supposed to be the second line...')"
      ],
      "execution_count": null,
      "outputs": []
    },
    {
      "cell_type": "code",
      "metadata": {
        "id": "oGWN0EUzPsxM"
      },
      "source": [
        "# creating our own context managers \n",
        "\n",
        "class Open_name, method):\n",
        "    self.filename = filefiles:\n",
        "  def __init__(self, filename\n",
        "    self.method = method\n",
        "\n",
        "  def __enter__(self):\n",
        "    self.file =  open(self.filename, self.method)\n",
        "    return self.file\n",
        "  def __exit__(self, exec_type, exec_val, traceback):\n",
        "    self.file.close()"
      ],
      "execution_count": null,
      "outputs": []
    },
    {
      "cell_type": "code",
      "metadata": {
        "id": "kTr2DDsUQ6U6"
      },
      "source": [
        "with Open_files('file2.txt', 'w') as file:\n",
        "  file.write('Hello this is just the beginning')\n",
        "\n",
        "assert(file.closed) == True, print('Error')"
      ],
      "execution_count": null,
      "outputs": []
    },
    {
      "cell_type": "code",
      "metadata": {
        "id": "AxfDi5oxSVdV",
        "colab": {
          "base_uri": "https://localhost:8080/"
        },
        "outputId": "8946a306-b2bd-4087-a15b-195a06e781a5"
      },
      "source": [
        "# lets now create a context manager using a method \n",
        "from contextlib import contextmanager\n",
        "\n",
        "@contextmanager\n",
        "def open_file(filename, mode):\n",
        "  f = open(filename, mode)\n",
        "  yield f \n",
        "  f.close()\n",
        "\n",
        "with open_file('file3.txt', 'w') as f:\n",
        "  f.write('this is the last file create with context managers')\n",
        "\n",
        "f.closed"
      ],
      "execution_count": null,
      "outputs": [
        {
          "output_type": "execute_result",
          "data": {
            "text/plain": [
              "True"
            ]
          },
          "metadata": {
            "tags": []
          },
          "execution_count": 14
        }
      ]
    },
    {
      "cell_type": "code",
      "metadata": {
        "id": "Kk2kcGs8WwKk"
      },
      "source": [
        "import time\n",
        "def time_it(f):\n",
        "  def wrapper(*args, **kwargs):\n",
        "    start = time.perf_counter() \n",
        "    f(*args, **kwargs)\n",
        "    time_elapsed = round(time.perf_counter()-start, 2)\n",
        "    print(time)\n",
        "  return wrapper"
      ],
      "execution_count": null,
      "outputs": []
    },
    {
      "cell_type": "code",
      "metadata": {
        "id": "tWnX6ZHWf2L4"
      },
      "source": [
        "def time_elapsed(f):\n",
        "  def wrapper(*args, **kwargs):\n",
        "    start = time.perf_counter()\n",
        "    f(*args, **kwargs)\n",
        "    return f'{time.perf_counter()-start} seconds to excute'\n",
        "  return wrapper"
      ],
      "execution_count": null,
      "outputs": []
    },
    {
      "cell_type": "code",
      "metadata": {
        "id": "admfr8CbV42j",
        "colab": {
          "base_uri": "https://localhost:8080/",
          "height": 35
        },
        "outputId": "82de6800-09f7-4568-9022-05423885c2fd"
      },
      "source": [
        "@time_elapsed\n",
        "def facto(n):\n",
        "  if n == 0:\n",
        "    return 1\n",
        "  return n*facto(n-1)\n",
        "facto(200)"
      ],
      "execution_count": null,
      "outputs": [
        {
          "output_type": "execute_result",
          "data": {
            "application/vnd.google.colaboratory.intrinsic+json": {
              "type": "string"
            },
            "text/plain": [
              "'0.0008226630006902269 seconds to excute'"
            ]
          },
          "metadata": {
            "tags": []
          },
          "execution_count": 64
        }
      ]
    },
    {
      "cell_type": "code",
      "metadata": {
        "id": "go9OlaKQkpva"
      },
      "source": [
        "import requests\n",
        "\n",
        "def downlaod(url):\n",
        "  images_bytes = requests.get(url).content\n",
        "  image_name = url.split('/')[3]\n",
        "  image_name += '.jpg'\n",
        "  with open(image_name, 'wb') as file:\n",
        "    file.write(images_bytes)\n",
        "    print(f'{image_name} has been succesfully downloaded')\n",
        "\n",
        "# check the function \n",
        "#url = 'https://images.unsplash.com/photo-1516117172878-fd2c41f4a759'\n",
        "#downlaod(url)"
      ],
      "execution_count": null,
      "outputs": []
    },
    {
      "cell_type": "code",
      "metadata": {
        "id": "eVlvIeWXm1Fd"
      },
      "source": [
        "img_urls = [\n",
        "    'https://images.unsplash.com/photo-1516117172878-fd2c41f4a759',\n",
        "    'https://images.unsplash.com/photo-1532009324734-20a7a5813719',\n",
        "    'https://images.unsplash.com/photo-1524429656589-6633a470097c',\n",
        "    'https://images.unsplash.com/photo-1530224264768-7ff8c1789d79',\n",
        "    'https://images.unsplash.com/photo-1564135624576-c5c88640f235',\n",
        "    'https://images.unsplash.com/photo-1541698444083-023c97d3f4b6',\n",
        "    'https://images.unsplash.com/photo-1522364723953-452d3431c267',\n",
        "    'https://images.unsplash.com/photo-1513938709626-033611b8cc03',\n",
        "    'https://images.unsplash.com/photo-1507143550189-fed454f93097',\n",
        "    'https://images.unsplash.com/photo-1493976040374-85c8e12f0c0e',\n",
        "    'https://images.unsplash.com/photo-1504198453319-5ce911bafcde',\n",
        "    'https://images.unsplash.com/photo-1530122037265-a5f1f91d3b99',\n",
        "    'https://images.unsplash.com/photo-1516972810927-80185027ca84',\n",
        "    'https://images.unsplash.com/photo-1550439062-609e1531270e',\n",
        "    'https://images.unsplash.com/photo-1549692520-acc6669e2f0c'\n",
        "]"
      ],
      "execution_count": null,
      "outputs": []
    },
    {
      "cell_type": "code",
      "metadata": {
        "id": "_BbDv16BmixG",
        "colab": {
          "base_uri": "https://localhost:8080/"
        },
        "outputId": "19f840fe-b7af-4e7d-cce2-c7e927abbd13"
      },
      "source": [
        "# Do things manually: \n",
        "import threading\n",
        "import time\n",
        "\n",
        "start = time.time()\n",
        "\n",
        "threads = []\n",
        "\n",
        "for url in img_urls:\n",
        "  t = threading.Thread(target=downlaod, args=[url])\n",
        "  threads.append(t)\n",
        "  t.start()\n",
        "\n",
        "for thread in threads :\n",
        "  thread.join()\n",
        "  \n",
        "print(f'Time elapsed {round(time.time()-start, 2)} seconds')\n"
      ],
      "execution_count": null,
      "outputs": [
        {
          "output_type": "stream",
          "text": [
            "photo-1507143550189-fed454f93097.jpg has been succesfully downloaded\n",
            "photo-1564135624576-c5c88640f235.jpg has been succesfully downloaded\n",
            "photo-1516117172878-fd2c41f4a759.jpg has been succesfully downloaded\n",
            "photo-1549692520-acc6669e2f0c.jpg has been succesfully downloaded\n",
            "photo-1504198453319-5ce911bafcde.jpg has been succesfully downloaded\n",
            "photo-1516972810927-80185027ca84.jpg has been succesfully downloaded\n",
            "photo-1530122037265-a5f1f91d3b99.jpg has been succesfully downloaded\n",
            "photo-1524429656589-6633a470097c.jpg has been succesfully downloaded\n",
            "photo-1530224264768-7ff8c1789d79.jpg has been succesfully downloaded\n",
            "photo-1550439062-609e1531270e.jpg has been succesfully downloaded\n",
            "photo-1522364723953-452d3431c267.jpg has been succesfully downloaded\n",
            "photo-1513938709626-033611b8cc03.jpg has been succesfully downloaded\n",
            "photo-1532009324734-20a7a5813719.jpg has been succesfully downloaded\n",
            "photo-1541698444083-023c97d3f4b6.jpg has been succesfully downloaded\n",
            "photo-1493976040374-85c8e12f0c0e.jpg has been succesfully downloaded\n",
            "Time elapsed 1.52 seconds\n"
          ],
          "name": "stdout"
        }
      ]
    },
    {
      "cell_type": "code",
      "metadata": {
        "id": "4shLHhMRq5Dp",
        "colab": {
          "base_uri": "https://localhost:8080/"
        },
        "outputId": "345ff81f-d663-402c-8c22-38a8700f993f"
      },
      "source": [
        "import concurrent.futures\n",
        "\n",
        "with concurrent.futures.ThreadPoolExecutor() as executor:\n",
        "  results  = executor.map(downlaod, img_urls)"
      ],
      "execution_count": null,
      "outputs": [
        {
          "output_type": "stream",
          "text": [
            "photo-1507143550189-fed454f93097.jpg has been succesfully downloaded\n",
            "photo-1516117172878-fd2c41f4a759.jpg has been succesfully downloaded\n",
            "photo-1564135624576-c5c88640f235.jpg has been succesfully downloaded\n",
            "photo-1530224264768-7ff8c1789d79.jpg has been succesfully downloaded\n",
            "photo-1524429656589-6633a470097c.jpg has been succesfully downloaded\n",
            "photo-1513938709626-033611b8cc03.jpg has been succesfully downloaded\n",
            "photo-1522364723953-452d3431c267.jpg has been succesfully downloaded\n",
            "photo-1504198453319-5ce911bafcde.jpg has been succesfully downloaded\n",
            "photo-1532009324734-20a7a5813719.jpg has been succesfully downloaded\n",
            "photo-1541698444083-023c97d3f4b6.jpg has been succesfully downloaded\n",
            "photo-1493976040374-85c8e12f0c0e.jpg has been succesfully downloaded\n",
            "photo-1516972810927-80185027ca84.jpg has been succesfully downloaded\n",
            "photo-1550439062-609e1531270e.jpg has been succesfully downloaded\n",
            "photo-1530122037265-a5f1f91d3b99.jpg has been succesfully downloaded\n",
            "photo-1549692520-acc6669e2f0c.jpg has been succesfully downloaded\n"
          ],
          "name": "stdout"
        }
      ]
    },
    {
      "cell_type": "code",
      "metadata": {
        "id": "fJK2QpEswGNE",
        "colab": {
          "base_uri": "https://localhost:8080/"
        },
        "outputId": "29839630-a59d-4814-ff48-b0fa2b41946c"
      },
      "source": [
        "import time\n",
        "import multiprocessing\n",
        "def sleeper(duration):\n",
        "  print(f' Going to sleep for {duration} seconds')\n",
        "  time.sleep(duration)\n",
        "  return f' Done sleeping'\n",
        "\n",
        "start = time.perf_counter()\n",
        "p1 = multiprocessing.Process(target=sleeper, args=[3])\n",
        "p2 = multiprocessing.Process(target=sleeper, args=[3])\n",
        "p1.start()\n",
        "p2.start()\n",
        "p1.join()\n",
        "p2.join()\n",
        "end = time.perf_counter()\n",
        "print(f' Time elapsed : {round(end-start, 2)} seconds')"
      ],
      "execution_count": null,
      "outputs": [
        {
          "output_type": "stream",
          "text": [
            " Going to sleep for 3 seconds\n",
            " Going to sleep for 3 seconds\n",
            " Time elapsed : 3.04 seconds\n"
          ],
          "name": "stdout"
        }
      ]
    },
    {
      "cell_type": "code",
      "metadata": {
        "id": "oMWDGK55yASh",
        "colab": {
          "base_uri": "https://localhost:8080/"
        },
        "outputId": "56335997-e980-4b4d-a3f6-9208856f016d"
      },
      "source": [
        "import concurrent.futures\n",
        "\n",
        "start = time.perf_counter()\n",
        "durations = [6, 5, 4, 3, 2]\n",
        "with concurrent.futures.ProcessPoolExecutor() as executor:\n",
        "  processes = [executor.submit(sleeper, duration) for duration in durations]\n",
        "  for f in concurrent.futures.as_completed(processes):\n",
        "    print(f.result())\n",
        "end = time.perf_counter()\n",
        "print(f' Time elapsed : {round(end-start, 2)} seconds')"
      ],
      "execution_count": null,
      "outputs": [
        {
          "output_type": "stream",
          "text": [
            " Going to sleep for 6 seconds\n",
            " Going to sleep for 5 seconds\n",
            " Going to sleep for 4 seconds\n",
            " Done sleeping\n",
            " Going to sleep for 3 seconds\n",
            " Done sleeping\n",
            " Going to sleep for 2 seconds\n",
            " Done sleeping\n",
            " Done sleeping\n",
            " Done sleeping\n",
            " Time elapsed : 11.05 seconds\n"
          ],
          "name": "stdout"
        }
      ]
    },
    {
      "cell_type": "code",
      "metadata": {
        "id": "7lqZQ02k0v1Z"
      },
      "source": [
        "import concurrent.futures\n",
        "\n",
        "start = time.perf_counter()\n",
        "durations = [6, 5, 4, 3, 2]\n",
        "with concurrent.futures.ProcessPoolExecutor() as executor:\n",
        "  results = executor.map(sleeper, durations)\n",
        "  for r in results:\n",
        "    print(r)\n",
        "\n",
        "end = time.perf_counter()\n",
        "print(f' Time elapsed : {round(end-start, 2)} seconds')"
      ],
      "execution_count": null,
      "outputs": []
    },
    {
      "cell_type": "code",
      "metadata": {
        "id": "ySWPs_6-zKUW",
        "colab": {
          "base_uri": "https://localhost:8080/"
        },
        "outputId": "259708b5-8d8a-4744-ab38-1f2b2fe173ae"
      },
      "source": [
        "from PIL import Image, ImageFilter\n",
        "paths = glob.glob('*.jpg')\n",
        "image = Image.open(paths[0])\n",
        "image = image.filter(ImageFilter.GaussianBlur(15))\n",
        "image.thumbnail((600, 600))\n",
        "image.save('./processed/'+paths[0])\n",
        "print('Image processed')\n"
      ],
      "execution_count": null,
      "outputs": [
        {
          "output_type": "stream",
          "text": [
            "Image processed\n"
          ],
          "name": "stdout"
        }
      ]
    },
    {
      "cell_type": "code",
      "metadata": {
        "id": "eNe8y9DZx-aX",
        "colab": {
          "base_uri": "https://localhost:8080/"
        },
        "outputId": "ba7303e0-921d-4f03-a496-97b525fba64b"
      },
      "source": [
        "import requests\n",
        "\n",
        "r = requests.get('https://api.github.com/user', auth=('user', 'pass'))\n",
        "json_response = r.json()\n",
        "json_response"
      ],
      "execution_count": null,
      "outputs": [
        {
          "output_type": "execute_result",
          "data": {
            "text/plain": [
              "{'documentation_url': 'https://docs.github.com/rest',\n",
              " 'message': 'Maximum number of login attempts exceeded. Please try again later.'}"
            ]
          },
          "metadata": {
            "tags": []
          },
          "execution_count": 13
        }
      ]
    },
    {
      "cell_type": "code",
      "metadata": {
        "id": "DEhViqlMZ-Bx"
      },
      "source": [
        "arr = [4, 2, -3, 1, 6]\n",
        "\n",
        "def getSum(arr):\n",
        "\n",
        "  sum_elements = 0\n",
        "  result = set()\n",
        "  exist = dict()\n",
        "\n",
        "  for i in range(len(arr)):\n",
        "\n",
        "    sum_elements += arr[i]\n",
        "    #there are two cases :\n",
        "    if sum_elements == 0:\n",
        "      result.add((0, i))\n",
        "    else:\n",
        "        if not sum_elements in exist:\n",
        "          exist[sum_elements] = [i]\n",
        "        else:\n",
        "          #\n",
        "          al = exist.get(sum_elements)\n",
        "          for id in al:\n",
        "            result.add((id+1, i))     \n",
        "    "
      ],
      "execution_count": null,
      "outputs": []
    },
    {
      "cell_type": "code",
      "metadata": {
        "id": "A3UVQmwTiFIv",
        "colab": {
          "base_uri": "https://localhost:8080/"
        },
        "outputId": "23dbf7a5-a314-41f3-f8c3-5ba1ca16640e"
      },
      "source": [
        "def sum_problem(arr):\n",
        "\n",
        "  hashmap = dict()\n",
        "  result = set()\n",
        "  sum1 = 0\n",
        "\n",
        "  for i in range(len(arr)):\n",
        "    sum1 += arr[i]\n",
        "\n",
        "    if sum1 == 0:\n",
        "      result.add((0, i))\n",
        "    \n",
        "    if sum1 not in hashmap:\n",
        "      hashmap[sum1] = [i]\n",
        "    else:\n",
        "      al = hashmap.get(sum1)\n",
        "      # traverse the al array\n",
        "      for elt in range(len(al)):\n",
        "        result.add((al[elt]+1, i))\n",
        "      al.append(i)\n",
        "      hashmap[sum1] = al \n",
        "  return result\n",
        "\n",
        "sum_problem([1, 2, 7, -1, -7, -2, -3, 3])"
      ],
      "execution_count": null,
      "outputs": [
        {
          "output_type": "execute_result",
          "data": {
            "text/plain": [
              "{(0, 5), (0, 7), (6, 7)}"
            ]
          },
          "metadata": {
            "tags": []
          },
          "execution_count": 4
        }
      ]
    },
    {
      "cell_type": "code",
      "metadata": {
        "id": "jKyK_XsuyOmV",
        "colab": {
          "base_uri": "https://localhost:8080/"
        },
        "outputId": "e2dc0b7e-ebf8-4842-ab50-784723c75bc2"
      },
      "source": [
        "def array_advance_game(arr):\n",
        "  last_id = len(arr)-1\n",
        "  furthest = 0 \n",
        "  i = 0 \n",
        "  while i <= furthest and furthest < last_id:\n",
        "    furthest = max(furthest, arr[i]+i)\n",
        "    i += 1\n",
        "  return furthest >= last_id\n",
        "\n",
        "arr = [3, 3, 1, 0, 2, 0, 1]\n",
        "array_advance_game(arr)"
      ],
      "execution_count": null,
      "outputs": [
        {
          "output_type": "execute_result",
          "data": {
            "text/plain": [
              "True"
            ]
          },
          "metadata": {
            "tags": []
          },
          "execution_count": 7
        }
      ]
    },
    {
      "cell_type": "code",
      "metadata": {
        "id": "iZNlYusf2Cbi",
        "colab": {
          "base_uri": "https://localhost:8080/"
        },
        "outputId": "3a96ece3-1b7d-4168-e992-305b23d89891"
      },
      "source": [
        "def subArrExists(arr):\n",
        "\n",
        "  map = set()\n",
        "\n",
        "  sum1 = 0 \n",
        "\n",
        "  for i in range(len(arr)):\n",
        "    sum1 += arr[i]\n",
        "\n",
        "    if sum1 == 0:\n",
        "      return True\n",
        "    \n",
        "    if sum1 in map: \n",
        "      return True\n",
        "\n",
        "    map.add(sum1)\n",
        "\n",
        "  return False\n",
        "\n",
        "subArrExists([-3, 2, 3, 1, 6])"
      ],
      "execution_count": null,
      "outputs": [
        {
          "output_type": "execute_result",
          "data": {
            "text/plain": [
              "False"
            ]
          },
          "metadata": {
            "tags": []
          },
          "execution_count": 10
        }
      ]
    },
    {
      "cell_type": "code",
      "metadata": {
        "id": "lJ8aT55x4Q6r",
        "colab": {
          "base_uri": "https://localhost:8080/"
        },
        "outputId": "3f051116-c882-429f-de5c-33487705e461"
      },
      "source": [
        "arr = [15, -2, 2, -8, 1, 7, 10, 23]\n",
        "\n",
        "def len_largest_sub(arr):\n",
        "\n",
        "  # Every  element is going to be a subarray\n",
        "  # SO we can start the count from every element \n",
        "  max_len = 0\n",
        "\n",
        "  for i in range(len(arr)):\n",
        "    sum1 = 0 \n",
        "    for j in range(i, len(arr)):\n",
        "      sum1 += arr[j]\n",
        "      # if we have a sub array  with zero sum :\n",
        "      if sum1 == 0:\n",
        "        cur_len = j-i+1\n",
        "        max_len = max(max_len, cur_len)\n",
        "  return max_len\n",
        "\n",
        "len_largest_sub(arr)\n"
      ],
      "execution_count": null,
      "outputs": [
        {
          "output_type": "execute_result",
          "data": {
            "text/plain": [
              "5"
            ]
          },
          "metadata": {
            "tags": []
          },
          "execution_count": 12
        }
      ]
    }
  ]
}