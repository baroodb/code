{
  "nbformat": 4,
  "nbformat_minor": 0,
  "metadata": {
    "colab": {
      "name": "auto_encoders.ipynb",
      "provenance": [],
      "authorship_tag": "ABX9TyOybG9epgW12/KOyvnFLb5o",
      "include_colab_link": true
    },
    "kernelspec": {
      "name": "python3",
      "display_name": "Python 3"
    },
    "language_info": {
      "name": "python"
    }
  },
  "cells": [
    {
      "cell_type": "markdown",
      "metadata": {
        "id": "view-in-github",
        "colab_type": "text"
      },
      "source": [
        "<a href=\"https://colab.research.google.com/github/baroodb/code/blob/main/auto_encoders.ipynb\" target=\"_parent\"><img src=\"https://colab.research.google.com/assets/colab-badge.svg\" alt=\"Open In Colab\"/></a>"
      ]
    },
    {
      "cell_type": "code",
      "metadata": {
        "id": "-5y4GzeNQjHb"
      },
      "source": [
        "import numpy as np\n",
        "import tensorflow as tf\n",
        "import matplotlib.pyplot as plt\n",
        "import os\n",
        "from tensorflow.keras.layers import Conv2D, ReLU, BatchNormalization, Dropout, Dense, Input, Flatten, Reshape, Conv2DTranspose, Activation\n",
        "from tensorflow.keras.models import Model\n",
        "from tensorflow.keras import backend as K"
      ],
      "execution_count": null,
      "outputs": []
    },
    {
      "cell_type": "code",
      "metadata": {
        "id": "O3nowAH8QFiP"
      },
      "source": [
        "IMG_SHAPE = (224, 224, 3)\n",
        "latent_dim = 64\n",
        "filters = [32, 64]\n",
        "\n",
        "inputs = Input(shape=IMG_SHAPE)\n",
        "x = inputs\n",
        "\n",
        "for filter in filters:\n",
        "  x = Conv2D(filter, kernel_size=3, strides=2, padding='same')(x)\n",
        "  x = ReLU()(x)\n",
        "  x = BatchNormalization()(x)\n",
        "volume_size = K.int_shape(x)\n",
        "x = Flatten()(x)\n",
        "latent_space = Dense(latent_dim)(x)\n",
        "\n",
        "encoder = Model(inputs, latent_space, name='encoder')\n",
        "# here we start the decoder part \n",
        "decoder_input = Input(shape=(latent_dim,))\n",
        "x = Dense(units=np.prod(volume_size[1:]))(decoder_input)\n",
        "x = Reshape(target_shape=(volume_size[1], volume_size[2], volume_size[3]))(x)\n",
        "\n",
        "for filter in filters[::-1]:\n",
        "  x = Conv2DTranspose(filter, kernel_size=3, strides=2, padding='same')(x)\n",
        "  x = ReLU()(x)\n",
        "  x = BatchNormalization()(x)\n",
        "\n",
        "x = Conv2DTranspose(3, kernel_size=3, padding='same')(x)\n",
        "decoder_output = Activation('sigmoid')(x)\n",
        "\n",
        "decoder = Model(decoder_input, decoder_output)\n",
        "\n",
        "auto_encoder = Model(inputs, decoder(encoder(inputs)))"
      ],
      "execution_count": null,
      "outputs": []
    },
    {
      "cell_type": "code",
      "metadata": {
        "colab": {
          "base_uri": "https://localhost:8080/"
        },
        "id": "Mp-ZoTnpS5O8",
        "outputId": "fb8ce089-3bf3-4213-9cb8-2da1d9d01c78"
      },
      "source": [
        "auto_encoder.summary()"
      ],
      "execution_count": null,
      "outputs": [
        {
          "output_type": "stream",
          "name": "stdout",
          "text": [
            "Model: \"model_4\"\n",
            "_________________________________________________________________\n",
            "Layer (type)                 Output Shape              Param #   \n",
            "=================================================================\n",
            "input_22 (InputLayer)        [(None, 224, 224, 3)]     0         \n",
            "_________________________________________________________________\n",
            "encoder (Functional)         (None, 64)                12864896  \n",
            "_________________________________________________________________\n",
            "model_3 (Functional)         (None, 224, 224, 3)       13102403  \n",
            "=================================================================\n",
            "Total params: 25,967,299\n",
            "Trainable params: 25,966,915\n",
            "Non-trainable params: 384\n",
            "_________________________________________________________________\n"
          ]
        }
      ]
    }
  ]
}