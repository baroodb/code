{
  "nbformat": 4,
  "nbformat_minor": 0,
  "metadata": {
    "colab": {
      "name": "videos2.ipynb",
      "provenance": [],
      "collapsed_sections": [],
      "authorship_tag": "ABX9TyP2zf5kYn0YDaOA/Fq9OEii",
      "include_colab_link": true
    },
    "kernelspec": {
      "name": "python3",
      "display_name": "Python 3"
    },
    "language_info": {
      "name": "python"
    }
  },
  "cells": [
    {
      "cell_type": "markdown",
      "metadata": {
        "id": "view-in-github",
        "colab_type": "text"
      },
      "source": [
        "<a href=\"https://colab.research.google.com/github/baroodb/code/blob/main/videos2.ipynb\" target=\"_parent\"><img src=\"https://colab.research.google.com/assets/colab-badge.svg\" alt=\"Open In Colab\"/></a>"
      ]
    },
    {
      "cell_type": "code",
      "metadata": {
        "id": "jcS5Zuh5an9L"
      },
      "source": [
        "from google.colab import auth\n",
        "auth.authenticate_user()"
      ],
      "execution_count": 3,
      "outputs": []
    },
    {
      "cell_type": "code",
      "metadata": {
        "id": "-0jbWPEZi9KN"
      },
      "source": [
        "# import \n",
        "import numpy as np\n",
        "import pandas as pd\n",
        "import matplotlib.pyplot as plt\n",
        "import tensorflow as tf\n",
        "import os\n"
      ],
      "execution_count": 5,
      "outputs": []
    },
    {
      "cell_type": "code",
      "metadata": {
        "colab": {
          "base_uri": "https://localhost:8080/"
        },
        "id": "gISBWK7Ph-3M",
        "outputId": "2e3e8fe2-85dd-470d-b55e-1f05e6954add"
      },
      "source": [
        "!git clone https://github.com/jurjsorinliviu/Sports-Type-Classifier.git clone"
      ],
      "execution_count": 6,
      "outputs": [
        {
          "output_type": "stream",
          "name": "stdout",
          "text": [
            "Cloning into 'clone'...\n",
            "remote: Enumerating objects: 14521, done.\u001b[K\n",
            "remote: Total 14521 (delta 0), reused 0 (delta 0), pack-reused 14521\u001b[K\n",
            "Receiving objects: 100% (14521/14521), 592.88 MiB | 38.54 MiB/s, done.\n",
            "Resolving deltas: 100% (6/6), done.\n",
            "Checking out files: 100% (14619/14619), done.\n"
          ]
        }
      ]
    },
    {
      "cell_type": "code",
      "metadata": {
        "colab": {
          "base_uri": "https://localhost:8080/"
        },
        "id": "SzFZWI2PjOcc",
        "outputId": "41c6a7ca-ca44-49aa-efc0-4908aeb4d5ca"
      },
      "source": [
        "%%writefile train.py\n",
        "import argparse\n",
        "from imutils import paths\n",
        "import os\n",
        "import cv2\n",
        "import numpy as np\n",
        "import matplotlib.pyplot as plt\n",
        "from sklearn.preprocessing import LabelBinarizer\n",
        "from sklearn.model_selection import train_test_split\n",
        "import tensorflow as tf\n",
        "from tensorflow.keras.applications import ResNet50\n",
        "from tensorflow.keras.layers import AveragePooling2D, Flatten, Dense, Dropout, Input\n",
        "import pickle\n",
        "\n",
        "LABELS = [\"weight_lifting\", \"tennis\", \"football\"]\n",
        "\n",
        "\n",
        "parser = argparse.ArgumentParser()\n",
        "parser.add_argument('-d', '--dataset', help='This is the path to the dataset', required=True)\n",
        "parser.add_argument('-m', '--model', help='Path to save the model to', required=True)\n",
        "parser.add_argument('-e', '--epochs', type=int,  help='The number of epochs', required=True)\n",
        "parser.add_argument('-l', '--label-bin', help='Path to save the label binarizer to...')\n",
        "parser.add_argument('-p', '--plot', type=str,  help='Path to output the plot..')\n",
        "\n",
        "args = vars(parser.parse_args())\n",
        "\n",
        "# create the plot path if it does not exists\n",
        "\n",
        "print('INFO: Creating the plot path ...')\n",
        "os.makedirs(os.path.dirname(args['plot']))\n",
        "\n",
        "list_files = list(paths.list_images(args['dataset']))\n",
        "\n",
        "images = []\n",
        "labels = []\n",
        "\n",
        "for path in list_files:\n",
        "  label = path.split(os.path.sep)[-2]\n",
        "\n",
        "\n",
        "  if label not in LABELS:\n",
        "    continue\n",
        "  \n",
        "  img = cv2.imread(path)\n",
        "  img = cv2.cvtColor(img, cv2.COLOR_BGR2RGB)\n",
        "  img = cv2.resize(img, (224, 224))\n",
        "\n",
        "  images.append(img)\n",
        "  labels.append(label)\n",
        "\n",
        "images = np.array(images)\n",
        "labels = np.array(labels)\n",
        "\n",
        "\n",
        "print(images.shape)\n",
        "print(labels.shape)\n",
        "\n",
        "lb = LabelBinarizer()\n",
        "labels = lb.fit_transform(labels)\n",
        "print('INFO: Printing some elements from the label binarizer')\n",
        "print(labels)\n",
        "\n",
        "# split the data\n",
        "train_ds, val_ds, train_labels, val_labels = train_test_split(images, \n",
        "                                                              labels, \n",
        "                                                              test_size=0.2, \n",
        "                                                              stratify=labels, \n",
        "                                                              random_state=42)\n",
        "assert train_ds.shape[0] == train_labels.shape[0]\n",
        "assert val_ds.shape[0] == val_labels.shape[0]\n",
        "\n",
        "# Create the data augmentation \n",
        "train_augmentation = tf.keras.preprocessing.image.ImageDataGenerator(\n",
        "    \trotation_range=30,\n",
        "      zoom_range=0.15,\n",
        "      width_shift_range=0.2,\n",
        "      height_shift_range=0.2,\n",
        "      shear_range=0.15,\n",
        "      horizontal_flip=True,\n",
        "      fill_mode=\"nearest\"\n",
        ")\n",
        "\n",
        "val_augmentation = tf.keras.preprocessing.image.ImageDataGenerator()\n",
        "\n",
        "mean = np.array([123.68, 116.779, 103.939], dtype=\"float32\")\n",
        "\n",
        "train_augmentation.mean = mean\n",
        "val_augmentation.mean = mean\n",
        "\n",
        "\n",
        "#builing the model\n",
        "\n",
        "base = ResNet50(include_top=False)\n",
        "for layer in base.layers:\n",
        "  layer.trainable = False\n",
        "\n",
        "inputs = Input(shape=(224, 224, 3))\n",
        "x = base(inputs, training=False)\n",
        "x = AveragePooling2D((7, 7))(x)\n",
        "x = Flatten()(x)\n",
        "x = Dense(512, activation='relu')(x)\n",
        "x = Dropout(0.5)(x)\n",
        "outputs = Dense(len(LABELS), activation='softmax')(x)\n",
        "\n",
        "model = tf.keras.models.Model(inputs=inputs, outputs=outputs)\n",
        "\n",
        "print('INFO: Printing the model summary')\n",
        "print(model.summary())\n",
        "\n",
        "print('INFO: Compiling the model')\n",
        "model.compile(loss='categorical_crossentropy', \n",
        "              optimizer=tf.keras.optimizers.SGD(learning_rate=1e-4, momentum=0.9, decay=1e-4/args['epochs']), \n",
        "              metrics=['accuracy'])\n",
        "\n",
        "#\n",
        "print('INFO: Launching the training job')\n",
        "\n",
        "H = model.fit(x=train_augmentation.flow(train_ds, train_labels, batch_size=32), \n",
        "              steps_per_epoch=len(train_ds) // 32, \n",
        "              validation_data=val_augmentation.flow(val_ds, val_labels), \n",
        "              validation_steps=len(val_ds) // 32, \n",
        "              epochs=args['epochs'])\n",
        "\n",
        "print(f\"INFO: Saving the model to the path  {args['model']}\")\n",
        "model.save(args['model'])\n",
        "print(f\"INFO: Saving the labels to the path {args['label_bin']}\")\n",
        "\n",
        "with open(args['label_bin'], 'wb') as f:\n",
        "  f.write(pickle.dumps(lb))\n",
        "\n",
        "# plot the training loss and accuracy\n",
        "N = args[\"epochs\"]\n",
        "plt.style.use(\"ggplot\")\n",
        "plt.figure()\n",
        "plt.plot(np.arange(0, N), H.history[\"loss\"], label=\"train_loss\")\n",
        "plt.plot(np.arange(0, N), H.history[\"val_loss\"], label=\"val_loss\")\n",
        "plt.plot(np.arange(0, N), H.history[\"accuracy\"], label=\"train_acc\")\n",
        "plt.plot(np.arange(0, N), H.history[\"val_accuracy\"], label=\"val_acc\")\n",
        "plt.title(\"Training Loss and Accuracy on Dataset\")\n",
        "plt.xlabel(\"Epoch #\")\n",
        "plt.ylabel(\"Loss/Accuracy\")\n",
        "plt.legend(loc=\"lower left\")\n",
        "\n",
        "print(f\"INFO: Saving the plot to {args['plot']}\")\n",
        "plt.savefig(args[\"plot\"])\n"
      ],
      "execution_count": 7,
      "outputs": [
        {
          "output_type": "stream",
          "name": "stdout",
          "text": [
            "Writing train.py\n"
          ]
        }
      ]
    },
    {
      "cell_type": "code",
      "metadata": {
        "colab": {
          "base_uri": "https://localhost:8080/"
        },
        "id": "ZwYaJG49oeMa",
        "outputId": "53f822ae-6108-4dbc-aea8-aa10c8da5618"
      },
      "source": [
        "!python train.py --dataset /content/clone/data --epochs 10 --model trained/model --plot trained/plot.png --label-bin trained/lb.pickle"
      ],
      "execution_count": 8,
      "outputs": [
        {
          "output_type": "stream",
          "name": "stdout",
          "text": [
            "INFO: Creating the plot path ...\n",
            "libpng warning: iCCP: known incorrect sRGB profile\n",
            "libpng warning: iCCP: known incorrect sRGB profile\n",
            "libpng warning: iCCP: known incorrect sRGB profile\n",
            "libpng warning: iCCP: known incorrect sRGB profile\n",
            "libpng warning: iCCP: known incorrect sRGB profile\n",
            "(2070, 224, 224, 3)\n",
            "(2070,)\n",
            "INFO: Printing some elements from the label binarizer\n",
            "[[0 0 1]\n",
            " [0 0 1]\n",
            " [0 0 1]\n",
            " ...\n",
            " [1 0 0]\n",
            " [1 0 0]\n",
            " [1 0 0]]\n",
            "2021-09-18 19:48:38.631094: I tensorflow/stream_executor/cuda/cuda_gpu_executor.cc:937] successful NUMA node read from SysFS had negative value (-1), but there must be at least one NUMA node, so returning NUMA node zero\n",
            "2021-09-18 19:48:39.084528: I tensorflow/stream_executor/cuda/cuda_gpu_executor.cc:937] successful NUMA node read from SysFS had negative value (-1), but there must be at least one NUMA node, so returning NUMA node zero\n",
            "2021-09-18 19:48:39.085580: I tensorflow/stream_executor/cuda/cuda_gpu_executor.cc:937] successful NUMA node read from SysFS had negative value (-1), but there must be at least one NUMA node, so returning NUMA node zero\n",
            "2021-09-18 19:48:39.087060: I tensorflow/stream_executor/cuda/cuda_gpu_executor.cc:937] successful NUMA node read from SysFS had negative value (-1), but there must be at least one NUMA node, so returning NUMA node zero\n",
            "2021-09-18 19:48:39.088003: I tensorflow/stream_executor/cuda/cuda_gpu_executor.cc:937] successful NUMA node read from SysFS had negative value (-1), but there must be at least one NUMA node, so returning NUMA node zero\n",
            "2021-09-18 19:48:39.088929: I tensorflow/stream_executor/cuda/cuda_gpu_executor.cc:937] successful NUMA node read from SysFS had negative value (-1), but there must be at least one NUMA node, so returning NUMA node zero\n",
            "2021-09-18 19:48:44.364864: I tensorflow/stream_executor/cuda/cuda_gpu_executor.cc:937] successful NUMA node read from SysFS had negative value (-1), but there must be at least one NUMA node, so returning NUMA node zero\n",
            "2021-09-18 19:48:44.365784: I tensorflow/stream_executor/cuda/cuda_gpu_executor.cc:937] successful NUMA node read from SysFS had negative value (-1), but there must be at least one NUMA node, so returning NUMA node zero\n",
            "2021-09-18 19:48:44.366632: I tensorflow/stream_executor/cuda/cuda_gpu_executor.cc:937] successful NUMA node read from SysFS had negative value (-1), but there must be at least one NUMA node, so returning NUMA node zero\n",
            "2021-09-18 19:48:44.367516: W tensorflow/core/common_runtime/gpu/gpu_bfc_allocator.cc:39] Overriding allow_growth setting because the TF_FORCE_GPU_ALLOW_GROWTH environment variable is set. Original config value was 0.\n",
            "2021-09-18 19:48:44.367594: I tensorflow/core/common_runtime/gpu/gpu_device.cc:1510] Created device /job:localhost/replica:0/task:0/device:GPU:0 with 10819 MB memory:  -> device: 0, name: Tesla K80, pci bus id: 0000:00:04.0, compute capability: 3.7\n",
            "Downloading data from https://storage.googleapis.com/tensorflow/keras-applications/resnet/resnet50_weights_tf_dim_ordering_tf_kernels_notop.h5\n",
            "94773248/94765736 [==============================] - 1s 0us/step\n",
            "94781440/94765736 [==============================] - 1s 0us/step\n",
            "INFO: Printing the model summary\n",
            "Model: \"model\"\n",
            "_________________________________________________________________\n",
            "Layer (type)                 Output Shape              Param #   \n",
            "=================================================================\n",
            "input_2 (InputLayer)         [(None, 224, 224, 3)]     0         \n",
            "_________________________________________________________________\n",
            "resnet50 (Functional)        (None, None, None, 2048)  23587712  \n",
            "_________________________________________________________________\n",
            "average_pooling2d (AveragePo (None, 1, 1, 2048)        0         \n",
            "_________________________________________________________________\n",
            "flatten (Flatten)            (None, 2048)              0         \n",
            "_________________________________________________________________\n",
            "dense (Dense)                (None, 512)               1049088   \n",
            "_________________________________________________________________\n",
            "dropout (Dropout)            (None, 512)               0         \n",
            "_________________________________________________________________\n",
            "dense_1 (Dense)              (None, 3)                 1539      \n",
            "=================================================================\n",
            "Total params: 24,638,339\n",
            "Trainable params: 1,050,627\n",
            "Non-trainable params: 23,587,712\n",
            "_________________________________________________________________\n",
            "None\n",
            "INFO: Compiling the model\n",
            "INFO: Launching the training job\n",
            "2021-09-18 19:48:48.752097: I tensorflow/compiler/mlir/mlir_graph_optimization_pass.cc:185] None of the MLIR Optimization Passes are enabled (registered 2)\n",
            "Epoch 1/10\n",
            "2021-09-18 19:48:54.954090: I tensorflow/stream_executor/cuda/cuda_dnn.cc:369] Loaded cuDNN version 8005\n",
            "51/51 [==============================] - 61s 521ms/step - loss: 1.1234 - accuracy: 0.5018 - val_loss: 0.6537 - val_accuracy: 0.7526\n",
            "Epoch 2/10\n",
            "51/51 [==============================] - 23s 456ms/step - loss: 0.8073 - accuracy: 0.6521 - val_loss: 0.4977 - val_accuracy: 0.7969\n",
            "Epoch 3/10\n",
            "51/51 [==============================] - 23s 458ms/step - loss: 0.6487 - accuracy: 0.7358 - val_loss: 0.4311 - val_accuracy: 0.8333\n",
            "Epoch 4/10\n",
            "51/51 [==============================] - 24s 477ms/step - loss: 0.5929 - accuracy: 0.7586 - val_loss: 0.3782 - val_accuracy: 0.8568\n",
            "Epoch 5/10\n",
            "51/51 [==============================] - 24s 476ms/step - loss: 0.5140 - accuracy: 0.7968 - val_loss: 0.3302 - val_accuracy: 0.8880\n",
            "Epoch 6/10\n",
            "51/51 [==============================] - 24s 463ms/step - loss: 0.4756 - accuracy: 0.8159 - val_loss: 0.3163 - val_accuracy: 0.8880\n",
            "Epoch 7/10\n",
            "51/51 [==============================] - 24s 462ms/step - loss: 0.4683 - accuracy: 0.8128 - val_loss: 0.2887 - val_accuracy: 0.9010\n",
            "Epoch 8/10\n",
            "51/51 [==============================] - 23s 459ms/step - loss: 0.4464 - accuracy: 0.8245 - val_loss: 0.2825 - val_accuracy: 0.8958\n",
            "Epoch 9/10\n",
            "51/51 [==============================] - 24s 460ms/step - loss: 0.4101 - accuracy: 0.8387 - val_loss: 0.2462 - val_accuracy: 0.9193\n",
            "Epoch 10/10\n",
            "51/51 [==============================] - 25s 478ms/step - loss: 0.3968 - accuracy: 0.8461 - val_loss: 0.2511 - val_accuracy: 0.9167\n",
            "INFO: Saving the model to the path  trained/model\n",
            "2021-09-18 19:55:44.896823: W tensorflow/python/util/util.cc:348] Sets are not currently considered sequences, but this may change in the future, so consider avoiding using them.\n",
            "/usr/local/lib/python3.7/dist-packages/keras/utils/generic_utils.py:497: CustomMaskWarning: Custom mask layers require a config and must override get_config. When loading, the custom mask layer must be passed to the custom_objects argument.\n",
            "  category=CustomMaskWarning)\n",
            "INFO: Saving the labels to the path trained/lb.pickle\n",
            "INFO: Saving the plot to trained/plot.png\n"
          ]
        }
      ]
    },
    {
      "cell_type": "code",
      "metadata": {
        "colab": {
          "base_uri": "https://localhost:8080/"
        },
        "id": "E8dIJ4pDW_yG",
        "outputId": "26fd194c-db07-4318-bc0a-8352f84438a3"
      },
      "source": [
        "!zip -r model.zip trained/"
      ],
      "execution_count": 9,
      "outputs": [
        {
          "output_type": "stream",
          "name": "stdout",
          "text": [
            "  adding: trained/ (stored 0%)\n",
            "  adding: trained/model/ (stored 0%)\n",
            "  adding: trained/model/assets/ (stored 0%)\n",
            "  adding: trained/model/variables/ (stored 0%)\n",
            "  adding: trained/model/variables/variables.data-00000-of-00001 (deflated 7%)\n",
            "  adding: trained/model/variables/variables.index (deflated 78%)\n",
            "  adding: trained/model/saved_model.pb (deflated 92%)\n",
            "  adding: trained/model/keras_metadata.pb (deflated 96%)\n",
            "  adding: trained/lb.pickle (deflated 38%)\n",
            "  adding: trained/plot.png (deflated 5%)\n"
          ]
        }
      ]
    },
    {
      "cell_type": "code",
      "metadata": {
        "colab": {
          "base_uri": "https://localhost:8080/",
          "height": 16
        },
        "id": "edWCutMeXsRG",
        "outputId": "4161f893-fef2-4d64-d5a9-4deaae1f21eb"
      },
      "source": [
        "from google.colab import files\n",
        "files.download('model.zip')"
      ],
      "execution_count": 10,
      "outputs": [
        {
          "output_type": "display_data",
          "data": {
            "application/javascript": [
              "\n",
              "    async function download(id, filename, size) {\n",
              "      if (!google.colab.kernel.accessAllowed) {\n",
              "        return;\n",
              "      }\n",
              "      const div = document.createElement('div');\n",
              "      const label = document.createElement('label');\n",
              "      label.textContent = `Downloading \"${filename}\": `;\n",
              "      div.appendChild(label);\n",
              "      const progress = document.createElement('progress');\n",
              "      progress.max = size;\n",
              "      div.appendChild(progress);\n",
              "      document.body.appendChild(div);\n",
              "\n",
              "      const buffers = [];\n",
              "      let downloaded = 0;\n",
              "\n",
              "      const channel = await google.colab.kernel.comms.open(id);\n",
              "      // Send a message to notify the kernel that we're ready.\n",
              "      channel.send({})\n",
              "\n",
              "      for await (const message of channel.messages) {\n",
              "        // Send a message to notify the kernel that we're ready.\n",
              "        channel.send({})\n",
              "        if (message.buffers) {\n",
              "          for (const buffer of message.buffers) {\n",
              "            buffers.push(buffer);\n",
              "            downloaded += buffer.byteLength;\n",
              "            progress.value = downloaded;\n",
              "          }\n",
              "        }\n",
              "      }\n",
              "      const blob = new Blob(buffers, {type: 'application/binary'});\n",
              "      const a = document.createElement('a');\n",
              "      a.href = window.URL.createObjectURL(blob);\n",
              "      a.download = filename;\n",
              "      div.appendChild(a);\n",
              "      a.click();\n",
              "      div.remove();\n",
              "    }\n",
              "  "
            ],
            "text/plain": [
              "<IPython.core.display.Javascript object>"
            ]
          },
          "metadata": {}
        },
        {
          "output_type": "display_data",
          "data": {
            "application/javascript": [
              "download(\"download_aad3bc58-dd04-4a18-a80b-39aae25b2f50\", \"model.zip\", 95728054)"
            ],
            "text/plain": [
              "<IPython.core.display.Javascript object>"
            ]
          },
          "metadata": {}
        }
      ]
    },
    {
      "cell_type": "code",
      "metadata": {
        "id": "iIS8JPi3iN4n"
      },
      "source": [
        "import os\n",
        "import tensorflow as tf\n",
        "\n",
        "\n",
        "BUCKET = 'gs://tf_model_bucket/'\n",
        "PROJECT = 'project my-third-project-326309'\n",
        "\n",
        "os.environ['BUCKET']=BUCKET\n",
        "MODEL_PATH = \"${BUCKET}/new/model\""
      ],
      "execution_count": 24,
      "outputs": []
    },
    {
      "cell_type": "code",
      "metadata": {
        "colab": {
          "base_uri": "https://localhost:8080/"
        },
        "id": "1NO16jNdaj70",
        "outputId": "5d8786ee-b195-422e-b1e0-8c17496d98b4"
      },
      "source": [
        "!gcloud config set project my-third-project-326309"
      ],
      "execution_count": 13,
      "outputs": [
        {
          "output_type": "stream",
          "name": "stdout",
          "text": [
            "Updated property [core/project].\n"
          ]
        }
      ]
    },
    {
      "cell_type": "code",
      "metadata": {
        "colab": {
          "base_uri": "https://localhost:8080/"
        },
        "id": "Xmdgcr4_iCyp",
        "outputId": "f0fa88d5-94dc-4942-e94e-1a79ddd39ef0"
      },
      "source": [
        "!gsutil ls $BUCKET"
      ],
      "execution_count": 16,
      "outputs": [
        {
          "output_type": "stream",
          "name": "stdout",
          "text": [
            "gs://tf_model_bucket/local/\n",
            "gs://tf_model_bucket/model/\n",
            "gs://tf_model_bucket/models/\n"
          ]
        }
      ]
    },
    {
      "cell_type": "code",
      "metadata": {
        "colab": {
          "base_uri": "https://localhost:8080/"
        },
        "id": "uUBAWahFi6mS",
        "outputId": "0b741e78-befe-4024-ed5f-7dbdd0fbc46d"
      },
      "source": [
        "!echo $MODEL_PATH"
      ],
      "execution_count": 23,
      "outputs": [
        {
          "output_type": "stream",
          "name": "stdout",
          "text": [
            "gs://tf_model_bucket//new/model\n"
          ]
        }
      ]
    },
    {
      "cell_type": "code",
      "metadata": {
        "id": "VSAkunTNjUsV"
      },
      "source": [
        "model = tf.keras.models.load_model('/content/trained/model')"
      ],
      "execution_count": 25,
      "outputs": []
    },
    {
      "cell_type": "code",
      "metadata": {
        "colab": {
          "base_uri": "https://localhost:8080/"
        },
        "id": "pl-Eg7LUjj-9",
        "outputId": "f87612b6-67ba-4be9-8255-2650873f6c5f"
      },
      "source": [
        "!saved_model_cli show --tag_set serve --dir /content/trained/model --signature serving_default"
      ],
      "execution_count": 30,
      "outputs": [
        {
          "output_type": "stream",
          "name": "stdout",
          "text": [
            "The given SavedModel SignatureDef contains the following input(s):\n",
            "  inputs['input_2'] tensor_info:\n",
            "      dtype: DT_FLOAT\n",
            "      shape: (-1, 224, 224, 3)\n",
            "      name: serving_default_input_2:0\n",
            "The given SavedModel SignatureDef contains the following output(s):\n",
            "  outputs['dense_1'] tensor_info:\n",
            "      dtype: DT_FLOAT\n",
            "      shape: (-1, 3)\n",
            "      name: StatefulPartitionedCall:0\n",
            "Method name is: tensorflow/serving/predict\n"
          ]
        }
      ]
    },
    {
      "cell_type": "code",
      "metadata": {
        "colab": {
          "base_uri": "https://localhost:8080/"
        },
        "id": "XHeOrDTclKtd",
        "outputId": "c2e3ac4a-9b1d-4243-e830-a747ebc94078"
      },
      "source": [
        "def read_from_jpeg(img):\n",
        "    img_data = tf.io.read_file(img)\n",
        "    return img_data\n",
        "\n",
        "def preprocess(img_bytes):\n",
        "    img_data = tf.image.decode_jpeg(img_bytes, channels=3)\n",
        "    img_data = tf.image.convert_image_dtype(img_data, tf.float32)\n",
        "    img_data = tf.image.resize(img_data, (224, 224))\n",
        "    return img_data\n",
        "\n",
        "filenames = [\n",
        "    'clone/data/football/00000007.jpg', \n",
        "    'clone/data/football/00000017.jpg', \n",
        "    'clone/data/weight_lifting/00000028.jpg', \n",
        "    'clone/data/tennis/00000094.jpg'\n",
        "]\n",
        "\n",
        "for filename in filenames:\n",
        "    img_bytes = read_from_jpeg(filename)\n",
        "    image_data = preprocess(img_bytes)\n",
        "    image_data = tf.expand_dims(image_data, axis=0)\n",
        "    \n",
        "    pred = model.predict(image_data)\n",
        "    print(pred)"
      ],
      "execution_count": 32,
      "outputs": [
        {
          "output_type": "stream",
          "name": "stdout",
          "text": [
            "[[0.20586473 0.30180103 0.49233428]]\n",
            "[[0.20029865 0.25959003 0.54011136]]\n",
            "[[0.2200291  0.29819492 0.48177603]]\n",
            "[[0.20027296 0.28066313 0.5190639 ]]\n"
          ]
        }
      ]
    },
    {
      "cell_type": "code",
      "metadata": {
        "id": "S3Gk3nK4lYPp"
      },
      "source": [
        "@tf.function(input_signature=[tf.TensorSpec([None,], dtype=tf.string)])\n",
        "def predict_bytes(img_bytes):\n",
        "    input_images = tf.map_fn(\n",
        "        preprocess,\n",
        "        img_bytes,\n",
        "        fn_output_signature=tf.float32\n",
        "    )\n",
        "    \n",
        "    batch_pred = model(input_images) # same as model.predict()\n",
        "    top_prob = tf.math.reduce_max(batch_pred, axis=[1])\n",
        "    pred_label_index = tf.math.argmax(batch_pred, axis=1)\n",
        "    \n",
        "    return {\n",
        "        'probability': top_prob,\n",
        "        'acivity': pred_label_index\n",
        "    }\n",
        "\n",
        "@tf.function(input_signature=[tf.TensorSpec([None,], dtype=tf.string)])\n",
        "def predict_filename(filenames):\n",
        "    img_bytes = tf.map_fn(\n",
        "        tf.io.read_file,\n",
        "        filenames\n",
        "    )\n",
        "    result = predict_bytes(img_bytes)\n",
        "    result['filename'] = filenames\n",
        "    return result\n",
        "\n"
      ],
      "execution_count": 33,
      "outputs": []
    },
    {
      "cell_type": "code",
      "metadata": {
        "colab": {
          "base_uri": "https://localhost:8080/"
        },
        "id": "cFrMTARomPRT",
        "outputId": "03dfba69-8436-4e21-d79d-b45abf30222e"
      },
      "source": [
        "MODEL_PATH = 'gs://tf_model_bucket/new/model'\n",
        "# Time to save the  model \n",
        "model.save(MODEL_PATH, signatures={\n",
        "    'serving_default': predict_bytes,\n",
        "    'from_file':  predict_filename\n",
        "})"
      ],
      "execution_count": 36,
      "outputs": [
        {
          "output_type": "stream",
          "name": "stdout",
          "text": [
            "INFO:tensorflow:Assets written to: gs://tf_model_bucket/new/model/assets\n"
          ]
        },
        {
          "output_type": "stream",
          "name": "stderr",
          "text": [
            "/usr/local/lib/python3.7/dist-packages/keras/utils/generic_utils.py:497: CustomMaskWarning: Custom mask layers require a config and must override get_config. When loading, the custom mask layer must be passed to the custom_objects argument.\n",
            "  category=CustomMaskWarning)\n"
          ]
        }
      ]
    },
    {
      "cell_type": "code",
      "metadata": {
        "id": "r92o6wEsoQCE"
      },
      "source": [
        "loaded = tf.keras.models.load_model(MODEL_PATH)"
      ],
      "execution_count": 37,
      "outputs": []
    },
    {
      "cell_type": "code",
      "metadata": {
        "colab": {
          "base_uri": "https://localhost:8080/"
        },
        "id": "PuJo1Bn-ompC",
        "outputId": "eef4e912-3709-4900-eb99-10a0b5bb5a21"
      },
      "source": [
        "!saved_model_cli show --tag_set serve --dir $MODEL_PATH --signature serving_default"
      ],
      "execution_count": 42,
      "outputs": [
        {
          "output_type": "stream",
          "name": "stdout",
          "text": [
            "The given SavedModel SignatureDef contains the following input(s):\n",
            "  inputs['img_bytes'] tensor_info:\n",
            "      dtype: DT_STRING\n",
            "      shape: (-1)\n",
            "      name: serving_default_img_bytes:0\n",
            "The given SavedModel SignatureDef contains the following output(s):\n",
            "  outputs['acivity'] tensor_info:\n",
            "      dtype: DT_INT64\n",
            "      shape: (-1)\n",
            "      name: StatefulPartitionedCall_1:0\n",
            "  outputs['probability'] tensor_info:\n",
            "      dtype: DT_FLOAT\n",
            "      shape: (-1)\n",
            "      name: StatefulPartitionedCall_1:1\n",
            "Method name is: tensorflow/serving/predict\n"
          ]
        }
      ]
    },
    {
      "cell_type": "code",
      "metadata": {
        "colab": {
          "base_uri": "https://localhost:8080/"
        },
        "id": "QwPI130KpIVd",
        "outputId": "60840a27-50e8-4bac-9197-fa4b18b00211"
      },
      "source": [
        "with open(filenames[1], 'rb') as f:\n",
        "  data_bytes = f.read()\n",
        "  data_bytes = tf.convert_to_tensor([data_bytes])\n",
        "  serving_fn = loaded.signatures['serving_default']\n",
        "  pred = serving_fn(data_bytes)\n",
        "  print(pred)"
      ],
      "execution_count": 44,
      "outputs": [
        {
          "output_type": "stream",
          "name": "stdout",
          "text": [
            "{'probability': <tf.Tensor: shape=(1,), dtype=float32, numpy=array([0.54011136], dtype=float32)>, 'acivity': <tf.Tensor: shape=(1,), dtype=int64, numpy=array([2])>}\n"
          ]
        }
      ]
    }
  ]
}