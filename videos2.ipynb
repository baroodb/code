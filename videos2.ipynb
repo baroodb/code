{
  "nbformat": 4,
  "nbformat_minor": 0,
  "metadata": {
    "colab": {
      "name": "videos2.ipynb",
      "provenance": [],
      "authorship_tag": "ABX9TyOpuZsBrnBe3xeVNViBws6t",
      "include_colab_link": true
    },
    "kernelspec": {
      "name": "python3",
      "display_name": "Python 3"
    },
    "language_info": {
      "name": "python"
    },
    "accelerator": "GPU"
  },
  "cells": [
    {
      "cell_type": "markdown",
      "metadata": {
        "id": "view-in-github",
        "colab_type": "text"
      },
      "source": [
        "<a href=\"https://colab.research.google.com/github/baroodb/code/blob/main/videos2.ipynb\" target=\"_parent\"><img src=\"https://colab.research.google.com/assets/colab-badge.svg\" alt=\"Open In Colab\"/></a>"
      ]
    },
    {
      "cell_type": "code",
      "metadata": {
        "id": "-0jbWPEZi9KN"
      },
      "source": [
        "# import \n",
        "import numpy as np\n",
        "import pandas as pd\n",
        "import matplotlib.pyplot as plt\n",
        "import tensorflow as tf\n",
        "import os\n",
        "import pickle"
      ],
      "execution_count": 1,
      "outputs": []
    },
    {
      "cell_type": "code",
      "metadata": {
        "colab": {
          "base_uri": "https://localhost:8080/"
        },
        "id": "gISBWK7Ph-3M",
        "outputId": "03492396-5289-4a9f-d75d-3f2d57319875"
      },
      "source": [
        "!git clone https://github.com/jurjsorinliviu/Sports-Type-Classifier.git clone"
      ],
      "execution_count": 2,
      "outputs": [
        {
          "output_type": "stream",
          "name": "stdout",
          "text": [
            "Cloning into 'clone'...\n",
            "remote: Enumerating objects: 14521, done.\u001b[K\n",
            "remote: Total 14521 (delta 0), reused 0 (delta 0), pack-reused 14521\u001b[K\n",
            "Receiving objects: 100% (14521/14521), 592.88 MiB | 26.97 MiB/s, done.\n",
            "Resolving deltas: 100% (6/6), done.\n",
            "Checking out files: 100% (14619/14619), done.\n"
          ]
        }
      ]
    },
    {
      "cell_type": "code",
      "metadata": {
        "colab": {
          "base_uri": "https://localhost:8080/"
        },
        "id": "SzFZWI2PjOcc",
        "outputId": "089c675d-83a8-40d2-a7c7-8c62ecc34a2e"
      },
      "source": [
        "%%writefile train.py\n",
        "import argparse\n",
        "from imutils import paths\n",
        "import os\n",
        "import cv2\n",
        "import numpy as np\n",
        "\n",
        "from sklearn.preprocessing import LabelBinarizer\n",
        "from sklearn.model_selection import train_test_split\n",
        "import tensorflow as tf\n",
        "from tensorflow.keras.applications import ResNet50\n",
        "from tensorflow.keras.layers import AveragePooling2D, Flatten, Dense, Dropout, Input\n",
        "\n",
        "\n",
        "LABELS = [\"weight_lifting\", \"tennis\", \"football\"]\n",
        "\n",
        "\n",
        "parser = argparse.ArgumentParser()\n",
        "parser.add_argument('-d', '--dataset', help='This is the path to the dataset', required=True)\n",
        "parser.add_argument('-m', '--model', help='Path to save the model to', required=True)\n",
        "parser.add_argument('-e', '--epochs', type=int,  help='The number of epochs', required=True)\n",
        "parser.add_argument('-l', '--label-bin', help='Path to save the label binarizer to...')\n",
        "parser.add_argument('-p', '--plot', help='Path to output the plot..')\n",
        "\n",
        "args = vars(parser.parse_args())\n",
        "\n",
        "list_files = list(paths.list_images(args['dataset']))\n",
        "\n",
        "images = []\n",
        "labels = []\n",
        "\n",
        "for path in list_files:\n",
        "  label = path.split(os.path.sep)[-2]\n",
        "\n",
        "\n",
        "  if label not in LABELS:\n",
        "    continue\n",
        "  \n",
        "  img = cv2.imread(path)\n",
        "  img = cv2.cvtColor(img, cv2.COLOR_BGR2RGB)\n",
        "  img = cv2.resize(img, (224, 224))\n",
        "\n",
        "  images.append(img)\n",
        "  labels.append(label)\n",
        "\n",
        "images = np.array(images)\n",
        "labels = np.array(labels)\n",
        "\n",
        "\n",
        "print(images.shape)\n",
        "print(labels.shape)\n",
        "\n",
        "lb = LabelBinarizer()\n",
        "labels = lb.fit_transform(labels)\n",
        "print('INFO: Printing some elements from the label binarizer')\n",
        "print(labels)\n",
        "\n",
        "# split the data\n",
        "train_ds, val_ds, train_labels, val_labels = train_test_split(images, \n",
        "                                                              labels, \n",
        "                                                              test_size=0.2, \n",
        "                                                              stratify=labels, \n",
        "                                                              random_state=42)\n",
        "assert train_ds.shape[0] == train_labels.shape[0]\n",
        "assert val_ds.shape[0] == val_labels.shape[0]\n",
        "\n",
        "# Create the data augmentation \n",
        "train_augmentation = tf.keras.preprocessing.image.ImageDataGenerator(\n",
        "    \trotation_range=30,\n",
        "      zoom_range=0.15,\n",
        "      width_shift_range=0.2,\n",
        "      height_shift_range=0.2,\n",
        "      shear_range=0.15,\n",
        "      horizontal_flip=True,\n",
        "      fill_mode=\"nearest\"\n",
        ")\n",
        "\n",
        "val_augmentation = tf.keras.preprocessing.image.ImageDataGenerator()\n",
        "\n",
        "mean = np.array([123.68, 116.779, 103.939], dtype=\"float32\")\n",
        "\n",
        "train_augmentation.mean = mean\n",
        "val_augmentation.mean = mean\n",
        "\n",
        "\n",
        "#builing the model\n",
        "\n",
        "base = ResNet50(include_top=False)\n",
        "for layer in base.layers:\n",
        "  layer.trainable = False\n",
        "\n",
        "inputs = Input(shape=(224, 224, 3))\n",
        "x = base(inputs, training=False)\n",
        "x = AveragePooling2D((7, 7))(x)\n",
        "x = Flatten()(x)\n",
        "x = Dense(512, activation='relu')(x)\n",
        "x = Dropout(0.5)(x)\n",
        "outputs = Dense(len(LABELS), activation='softmax')(x)\n",
        "\n",
        "model = tf.keras.models.Model(inputs=inputs, outputs=outputs)\n",
        "\n",
        "print('INFO: Printing the model summary')\n",
        "print(model.summary())\n",
        "\n",
        "print('INFO: Compiling the model')\n",
        "model.compile(loss='categorical_crossentropy', \n",
        "              optimizer=tf.keras.optimizers.SGD(learning_rate=1e-4, momentum=0.9, decay=1e-4/args['epochs']), \n",
        "              metrics=['accuracy'])\n",
        "\n",
        "#\n",
        "print('INFO: Launching the training job')\n",
        "\n",
        "H = model.fit(x=train_augmentation.flow(train_ds, train_labels, batch_size=32), \n",
        "              steps_per_epoch=len(train_ds) // 32, \n",
        "              validation_data=val_augmentation.flow(val_ds, val_labels), \n",
        "              validation_steps=len(val_ds) // 32, \n",
        "              epochs=args['epochs'])\n"
      ],
      "execution_count": 3,
      "outputs": [
        {
          "output_type": "stream",
          "name": "stdout",
          "text": [
            "Writing train.py\n"
          ]
        }
      ]
    },
    {
      "cell_type": "code",
      "metadata": {
        "colab": {
          "base_uri": "https://localhost:8080/"
        },
        "id": "ZwYaJG49oeMa",
        "outputId": "5c742116-6c7d-493c-ab41-b482e1e705e9"
      },
      "source": [
        "!python train.py --dataset /content/clone/data --epochs 10 --model /model"
      ],
      "execution_count": 4,
      "outputs": [
        {
          "output_type": "stream",
          "name": "stdout",
          "text": [
            "libpng warning: iCCP: known incorrect sRGB profile\n",
            "libpng warning: iCCP: known incorrect sRGB profile\n",
            "libpng warning: iCCP: known incorrect sRGB profile\n",
            "libpng warning: iCCP: known incorrect sRGB profile\n",
            "libpng warning: iCCP: known incorrect sRGB profile\n",
            "(2070, 224, 224, 3)\n",
            "(2070,)\n",
            "INFO: Printing some elements from the label binarizer\n",
            "[[0 1 0]\n",
            " [0 1 0]\n",
            " [0 1 0]\n",
            " ...\n",
            " [1 0 0]\n",
            " [1 0 0]\n",
            " [1 0 0]]\n",
            "2021-09-15 23:38:51.920782: I tensorflow/stream_executor/cuda/cuda_gpu_executor.cc:937] successful NUMA node read from SysFS had negative value (-1), but there must be at least one NUMA node, so returning NUMA node zero\n",
            "2021-09-15 23:38:52.411317: I tensorflow/stream_executor/cuda/cuda_gpu_executor.cc:937] successful NUMA node read from SysFS had negative value (-1), but there must be at least one NUMA node, so returning NUMA node zero\n",
            "2021-09-15 23:38:52.412238: I tensorflow/stream_executor/cuda/cuda_gpu_executor.cc:937] successful NUMA node read from SysFS had negative value (-1), but there must be at least one NUMA node, so returning NUMA node zero\n",
            "2021-09-15 23:38:52.413587: I tensorflow/stream_executor/cuda/cuda_gpu_executor.cc:937] successful NUMA node read from SysFS had negative value (-1), but there must be at least one NUMA node, so returning NUMA node zero\n",
            "2021-09-15 23:38:52.414498: I tensorflow/stream_executor/cuda/cuda_gpu_executor.cc:937] successful NUMA node read from SysFS had negative value (-1), but there must be at least one NUMA node, so returning NUMA node zero\n",
            "2021-09-15 23:38:52.415381: I tensorflow/stream_executor/cuda/cuda_gpu_executor.cc:937] successful NUMA node read from SysFS had negative value (-1), but there must be at least one NUMA node, so returning NUMA node zero\n",
            "2021-09-15 23:38:57.086132: I tensorflow/stream_executor/cuda/cuda_gpu_executor.cc:937] successful NUMA node read from SysFS had negative value (-1), but there must be at least one NUMA node, so returning NUMA node zero\n",
            "2021-09-15 23:38:57.086961: I tensorflow/stream_executor/cuda/cuda_gpu_executor.cc:937] successful NUMA node read from SysFS had negative value (-1), but there must be at least one NUMA node, so returning NUMA node zero\n",
            "2021-09-15 23:38:57.087734: I tensorflow/stream_executor/cuda/cuda_gpu_executor.cc:937] successful NUMA node read from SysFS had negative value (-1), but there must be at least one NUMA node, so returning NUMA node zero\n",
            "2021-09-15 23:38:57.088422: W tensorflow/core/common_runtime/gpu/gpu_bfc_allocator.cc:39] Overriding allow_growth setting because the TF_FORCE_GPU_ALLOW_GROWTH environment variable is set. Original config value was 0.\n",
            "2021-09-15 23:38:57.150577: I tensorflow/core/common_runtime/gpu/gpu_device.cc:1510] Created device /job:localhost/replica:0/task:0/device:GPU:0 with 10819 MB memory:  -> device: 0, name: Tesla K80, pci bus id: 0000:00:04.0, compute capability: 3.7\n",
            "Downloading data from https://storage.googleapis.com/tensorflow/keras-applications/resnet/resnet50_weights_tf_dim_ordering_tf_kernels_notop.h5\n",
            "94773248/94765736 [==============================] - 2s 0us/step\n",
            "94781440/94765736 [==============================] - 2s 0us/step\n",
            "INFO: Printing the model summary\n",
            "Model: \"model\"\n",
            "_________________________________________________________________\n",
            "Layer (type)                 Output Shape              Param #   \n",
            "=================================================================\n",
            "input_2 (InputLayer)         [(None, 224, 224, 3)]     0         \n",
            "_________________________________________________________________\n",
            "resnet50 (Functional)        (None, None, None, 2048)  23587712  \n",
            "_________________________________________________________________\n",
            "average_pooling2d (AveragePo (None, 1, 1, 2048)        0         \n",
            "_________________________________________________________________\n",
            "flatten (Flatten)            (None, 2048)              0         \n",
            "_________________________________________________________________\n",
            "dense (Dense)                (None, 512)               1049088   \n",
            "_________________________________________________________________\n",
            "dropout (Dropout)            (None, 512)               0         \n",
            "_________________________________________________________________\n",
            "dense_1 (Dense)              (None, 3)                 1539      \n",
            "=================================================================\n",
            "Total params: 24,638,339\n",
            "Trainable params: 1,050,627\n",
            "Non-trainable params: 23,587,712\n",
            "_________________________________________________________________\n",
            "None\n",
            "INFO: Compiling the model\n",
            "INFO: Launching the training job\n",
            "2021-09-15 23:39:03.716079: I tensorflow/compiler/mlir/mlir_graph_optimization_pass.cc:185] None of the MLIR Optimization Passes are enabled (registered 2)\n",
            "Epoch 1/10\n",
            "2021-09-15 23:39:09.054945: I tensorflow/stream_executor/cuda/cuda_dnn.cc:369] Loaded cuDNN version 8004\n",
            "51/51 [==============================] - 56s 513ms/step - loss: 1.3595 - accuracy: 0.4495 - val_loss: 0.6545 - val_accuracy: 0.7474\n",
            "Epoch 2/10\n",
            "51/51 [==============================] - 25s 478ms/step - loss: 0.8374 - accuracy: 0.6305 - val_loss: 0.4723 - val_accuracy: 0.8516\n",
            "Epoch 3/10\n",
            "51/51 [==============================] - 25s 480ms/step - loss: 0.6722 - accuracy: 0.7309 - val_loss: 0.4138 - val_accuracy: 0.8594\n",
            "Epoch 4/10\n",
            "51/51 [==============================] - 24s 476ms/step - loss: 0.5877 - accuracy: 0.7605 - val_loss: 0.3294 - val_accuracy: 0.8932\n",
            "Epoch 5/10\n",
            "51/51 [==============================] - 24s 477ms/step - loss: 0.4952 - accuracy: 0.8011 - val_loss: 0.3253 - val_accuracy: 0.8932\n",
            "Epoch 6/10\n",
            "51/51 [==============================] - 24s 478ms/step - loss: 0.4823 - accuracy: 0.7980 - val_loss: 0.3203 - val_accuracy: 0.8906\n",
            "Epoch 7/10\n",
            "51/51 [==============================] - 24s 478ms/step - loss: 0.4773 - accuracy: 0.8147 - val_loss: 0.2831 - val_accuracy: 0.9062\n",
            "Epoch 8/10\n",
            "51/51 [==============================] - 24s 479ms/step - loss: 0.4109 - accuracy: 0.8368 - val_loss: 0.2985 - val_accuracy: 0.8984\n",
            "Epoch 9/10\n",
            "51/51 [==============================] - 25s 481ms/step - loss: 0.4212 - accuracy: 0.8467 - val_loss: 0.2481 - val_accuracy: 0.9167\n",
            "Epoch 10/10\n",
            "51/51 [==============================] - 25s 481ms/step - loss: 0.4027 - accuracy: 0.8393 - val_loss: 0.2701 - val_accuracy: 0.9036\n"
          ]
        }
      ]
    }
  ]
}