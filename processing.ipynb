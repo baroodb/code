{
  "nbformat": 4,
  "nbformat_minor": 0,
  "metadata": {
    "colab": {
      "name": "processing.ipynb",
      "provenance": [],
      "authorship_tag": "ABX9TyNe+DUWvkTS724kiCflwOZe",
      "include_colab_link": true
    },
    "kernelspec": {
      "name": "python3",
      "display_name": "Python 3"
    },
    "language_info": {
      "name": "python"
    }
  },
  "cells": [
    {
      "cell_type": "markdown",
      "metadata": {
        "id": "view-in-github",
        "colab_type": "text"
      },
      "source": [
        "<a href=\"https://colab.research.google.com/github/baroodb/code/blob/main/processing.ipynb\" target=\"_parent\"><img src=\"https://colab.research.google.com/assets/colab-badge.svg\" alt=\"Open In Colab\"/></a>"
      ]
    },
    {
      "cell_type": "code",
      "metadata": {
        "id": "vj_Mqj9Rp-lx"
      },
      "source": [
        "import numpy as np\n",
        "import time\n",
        "import concurrent.futures\n",
        "data = np.random.randint(1, 10, size=(1000, 4, 4))\n",
        "data.shape\n",
        "\n",
        "def compute(mt):\n",
        "  return np.max(mt)\n",
        "\n",
        "def doSleep(id, duration):\n",
        "  print('I am going to sleep for ', duration, ' seconds')\n",
        "  time.sleep(duration)\n",
        "  print('Slept for ', duration, ' seconds')\n",
        "  return id \n",
        "\n",
        "durations = [1, 7, 6, 5, 10]\n",
        "n_durations = [(id, d) for id, d in enumerate(durations)]\n",
        "\n",
        "start = time.time()\n",
        "results = []\n",
        "for i in range(len(data)):\n",
        "  results.append(compute(data[i]))\n",
        "end = time.time()\n",
        "print(f'Elapsed ', end - start, ' seconds')\n",
        "print(results)"
      ],
      "execution_count": null,
      "outputs": []
    },
    {
      "cell_type": "code",
      "metadata": {
        "colab": {
          "base_uri": "https://localhost:8080/"
        },
        "id": "ZHAz82hd07o1",
        "outputId": "3964663e-aee6-4be1-cffd-63072f24f85c"
      },
      "source": [
        "n_durations"
      ],
      "execution_count": 21,
      "outputs": [
        {
          "output_type": "execute_result",
          "data": {
            "text/plain": [
              "[(0, 1), (1, 7), (2, 6), (3, 5), (4, 10)]"
            ]
          },
          "metadata": {},
          "execution_count": 21
        }
      ]
    },
    {
      "cell_type": "code",
      "metadata": {
        "id": "sFJ-yyajxfAm"
      },
      "source": [
        "def run():\n",
        "  results = []\n",
        "  with concurrent.futures.ProcessPoolExecutor() as executor:\n",
        "    for result in executor.map(compute, data):\n",
        "      results.append(result)\n",
        "  \n",
        "  return results\n",
        "\n",
        "run()"
      ],
      "execution_count": null,
      "outputs": []
    },
    {
      "cell_type": "code",
      "metadata": {
        "colab": {
          "base_uri": "https://localhost:8080/"
        },
        "id": "k4j7NsyizqdR",
        "outputId": "6161b582-85ca-45df-fe71-2841c88b42e0"
      },
      "source": [
        "def run_wrapper(p):\n",
        "  return doSleep(*p)\n",
        "\n",
        "def runIt():\n",
        "  results = []\n",
        "  with concurrent.futures.ProcessPoolExecutor() as exec:\n",
        "    for _, result in zip(n_durations, exec.map(run_wrapper, n_durations)) :\n",
        "      results.append(result)\n",
        "  \n",
        "  return results\n",
        "\n",
        "runIt()"
      ],
      "execution_count": 5,
      "outputs": [
        {
          "output_type": "stream",
          "name": "stdout",
          "text": [
            "I am going to sleep for  1  seconds\n",
            "I am going to sleep for  7  seconds\n",
            "Slept for  1  seconds\n",
            "I am going to sleep for  6  seconds\n",
            "Slept for  7  seconds\n",
            "I am going to sleep for  5  seconds\n",
            "Slept for  6  seconds\n",
            "I am going to sleep for  10  seconds\n",
            "Slept for  5  seconds\n",
            "Slept for  10  seconds\n"
          ]
        },
        {
          "output_type": "execute_result",
          "data": {
            "text/plain": [
              "[0, 1, 2, 3, 4]"
            ]
          },
          "metadata": {},
          "execution_count": 5
        }
      ]
    },
    {
      "cell_type": "code",
      "metadata": {
        "id": "mx_18zIxw5IQ"
      },
      "source": [
        "%load_ext autoreload\n",
        "%autoreload 2"
      ],
      "execution_count": 6,
      "outputs": []
    },
    {
      "cell_type": "code",
      "metadata": {
        "colab": {
          "base_uri": "https://localhost:8080/"
        },
        "id": "LUaoxja4w4_O",
        "outputId": "54d09506-57e4-461e-9c78-c31c45cbef4f"
      },
      "source": [
        "%%writefile mesh.py\n",
        "import numpy as np\n",
        "import concurrent.futures\n",
        "import time \n",
        "import functools\n",
        "\n",
        "video_poses = np.random.randint(1, 10, size=(1000, 4, 4))\n",
        "\n",
        "#################################################\n",
        "def doIt(position, ref_pose, video_pose):\n",
        "  print('starting a process')\n",
        "  time.sleep(1)\n",
        "  computed = video_pose * video_pose * video_pose\n",
        "  position = np.random.randint(20) * position * ref_pose\n",
        "  return position\n",
        "\n",
        "\n",
        "def callDoIt(data, position, ref_pose):\n",
        "  res = []\n",
        "  part = functools.partial(doIt, position, ref_pose)\n",
        "  with concurrent.futures.ProcessPoolExecutor() as exec:\n",
        "    for result in exec.map(part, data):\n",
        "      res.append(result)\n",
        "  \n",
        "  return res\n",
        "##################################################\n",
        "def compute_3d(position, video_poses, direction, ref_pose, config):\n",
        "  results = []\n",
        "  \n",
        "  for id, video_pose in enumerate(video_poses):\n",
        "    computed = video_pose * video_pose * video_pose\n",
        "    inclination = direction * (position+1)\n",
        "\n",
        "    results.append(computed)\n",
        "  \n",
        "  return results, len(results)\n",
        "\n",
        "\n",
        "def compute_3d2(position, video_poses, direction, ref_pose, config):\n",
        " \n",
        "  \n",
        "  data = [(id, video_pose) for id, video_pose in enumerate(video_poses)]\n",
        "  print(data[0])\n",
        "  \n",
        "  results = callDoIt(video_poses, position, ref_pose)\n",
        "  \n",
        "  return results, len(results)\n"
      ],
      "execution_count": 36,
      "outputs": [
        {
          "output_type": "stream",
          "name": "stdout",
          "text": [
            "Overwriting mesh.py\n"
          ]
        }
      ]
    },
    {
      "cell_type": "code",
      "metadata": {
        "colab": {
          "base_uri": "https://localhost:8080/"
        },
        "id": "s5Ppk5wjEZ0c",
        "outputId": "a34a6ea3-b934-4b71-c139-84bb94798170"
      },
      "source": [
        "np.random.randint(20)"
      ],
      "execution_count": 30,
      "outputs": [
        {
          "output_type": "execute_result",
          "data": {
            "text/plain": [
              "13"
            ]
          },
          "metadata": {},
          "execution_count": 30
        }
      ]
    },
    {
      "cell_type": "code",
      "metadata": {
        "colab": {
          "base_uri": "https://localhost:8080/"
        },
        "id": "xN9Cn1Rvz3f8",
        "outputId": "47137cfc-5771-49d8-d634-624b742e2949"
      },
      "source": [
        "from mesh import compute_3d2\n",
        "\n",
        "position = 1\n",
        "video_poses = np.random.randint(1, 10, size=(10, 4, 4))\n",
        "direction = 'right'\n",
        "ref_pose = 0.25\n",
        "config = {\n",
        "    'name': 'project', \n",
        "    'start': True\n",
        "}\n",
        "start = time.time()\n",
        "rs = compute_3d2(position, video_poses, direction, ref_pose, config)\n",
        "end = time.time()\n",
        "print(f'Elapsed ', end - start, ' seconds')\n",
        "print(rs)"
      ],
      "execution_count": 37,
      "outputs": [
        {
          "output_type": "stream",
          "name": "stdout",
          "text": [
            "(0, array([[5, 7, 9, 3],\n",
            "       [1, 1, 9, 5],\n",
            "       [8, 3, 6, 8],\n",
            "       [6, 5, 2, 7]]))\n",
            "starting a process\n",
            "starting a process\n",
            "starting a process\n",
            "starting a process\n",
            "starting a process\n",
            "starting a process\n",
            "starting a process\n",
            "starting a process\n",
            "starting a process\n",
            "starting a process\n",
            "Elapsed  5.056628704071045  seconds\n",
            "([0.0, 0.0, 3.25, 3.25, 2.5, 2.5, 4.25, 4.25, 4.5, 4.5], 10)\n"
          ]
        }
      ]
    }
  ]
}