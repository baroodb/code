{
  "nbformat": 4,
  "nbformat_minor": 0,
  "metadata": {
    "colab": {
      "name": "test.ipynb",
      "provenance": [],
      "authorship_tag": "ABX9TyMhqQUBFJRnC96rlOKligvw",
      "include_colab_link": true
    },
    "kernelspec": {
      "name": "python3",
      "display_name": "Python 3"
    },
    "language_info": {
      "name": "python"
    },
    "accelerator": "GPU"
  },
  "cells": [
    {
      "cell_type": "markdown",
      "metadata": {
        "id": "view-in-github",
        "colab_type": "text"
      },
      "source": [
        "<a href=\"https://colab.research.google.com/github/baroodb/code/blob/main/test.ipynb\" target=\"_parent\"><img src=\"https://colab.research.google.com/assets/colab-badge.svg\" alt=\"Open In Colab\"/></a>"
      ]
    },
    {
      "cell_type": "code",
      "metadata": {
        "id": "n-WYXsNSd-JR"
      },
      "source": [
        "%load_ext autoreload\n",
        "%autoreload"
      ],
      "execution_count": 6,
      "outputs": []
    },
    {
      "cell_type": "code",
      "metadata": {
        "id": "4XFt1xpi9kqY"
      },
      "source": [
        "!pip3 install torch==1.4.0+cu100 torchvision==0.5.0+cu100 -f https://download.pytorch.org/whl/torch_stable.html\n",
        "!pip3 install opencv-python==4.2.0.32\n",
        "!pip3 install vispy==0.6.4\n",
        "!pip3 install moviepy==1.0.2\n",
        "!pip3 install transforms3d==0.3.1\n",
        "!pip3 install networkx==2.3\n",
        "!sudo apt install sed"
      ],
      "execution_count": null,
      "outputs": []
    },
    {
      "cell_type": "code",
      "metadata": {
        "colab": {
          "base_uri": "https://localhost:8080/"
        },
        "id": "4wFpDQRGk29H",
        "outputId": "99929396-bcdf-4fa5-94ac-e05fbedbd734"
      },
      "source": [
        "%cd 3dp"
      ],
      "execution_count": 12,
      "outputs": [
        {
          "output_type": "stream",
          "name": "stdout",
          "text": [
            "/content/3dp\n"
          ]
        }
      ]
    },
    {
      "cell_type": "code",
      "metadata": {
        "colab": {
          "base_uri": "https://localhost:8080/"
        },
        "id": "NJJivL31kr0J",
        "outputId": "2916cce4-045f-4486-f695-e5796574edeb"
      },
      "source": [
        "%cd ../"
      ],
      "execution_count": 14,
      "outputs": [
        {
          "output_type": "stream",
          "name": "stdout",
          "text": [
            "/content\n"
          ]
        }
      ]
    },
    {
      "cell_type": "code",
      "metadata": {
        "id": "OMdWSaBYku9c"
      },
      "source": [
        "!rm -r 3dp"
      ],
      "execution_count": 16,
      "outputs": []
    },
    {
      "cell_type": "code",
      "metadata": {
        "colab": {
          "base_uri": "https://localhost:8080/"
        },
        "id": "zqxFo0Ma9I4X",
        "outputId": "4bbc3d6e-eb74-4756-c05e-9542d480c8b7"
      },
      "source": [
        "!git clone https://gitlab.com/baroulescientifique/3dp.git"
      ],
      "execution_count": 17,
      "outputs": [
        {
          "output_type": "stream",
          "name": "stdout",
          "text": [
            "Cloning into '3dp'...\n",
            "remote: Enumerating objects: 52, done.\u001b[K\n",
            "remote: Counting objects: 100% (52/52), done.\u001b[K\n",
            "remote: Compressing objects: 100% (48/48), done.\u001b[K\n",
            "remote: Total 52 (delta 8), reused 0 (delta 0), pack-reused 0\u001b[K\n",
            "Unpacking objects: 100% (52/52), done.\n"
          ]
        }
      ]
    },
    {
      "cell_type": "code",
      "metadata": {
        "id": "5Xx8UhJh9jfq"
      },
      "source": [
        "%cd 3dp\n",
        "!sh download.sh"
      ],
      "execution_count": null,
      "outputs": []
    },
    {
      "cell_type": "code",
      "metadata": {
        "id": "rJezaD_I_qu1"
      },
      "source": [
        "!sed -i 's/offscreen_rendering: True/offscreen_rendering: False/g' argument.yml"
      ],
      "execution_count": 19,
      "outputs": []
    },
    {
      "cell_type": "code",
      "metadata": {
        "colab": {
          "base_uri": "https://localhost:8080/"
        },
        "id": "sZ489Z70crk7",
        "outputId": "6dd5de25-1deb-4354-8af8-9d8e43d07185"
      },
      "source": [
        "!python cli.py --src_file image/moon.jpg --out_file depth/moon.npy --vis_file depth/moon.png"
      ],
      "execution_count": 5,
      "outputs": [
        {
          "output_type": "stream",
          "name": "stdout",
          "text": [
            "Settings:\n",
            "  init_net: model/tiefenrausch_init.pb\n",
            "  predict_net: model/tiefenrausch.pb\n",
            "  src_file: image/moon.jpg\n",
            "  out_file: depth/moon.npy\n",
            "  vis_file: depth/moon.png\n",
            "  src_dir: None\n",
            "  out_dir: None\n",
            "  vis_dir: None\n",
            "Creating Tiefenrausch model from files...\n",
            "  Init net: 'model/tiefenrausch_init.pb'\n",
            "  Predict net: 'model/tiefenrausch.pb'\n",
            "Reading image file 'image/moon.jpg'...\n",
            "Writing depth file 'depth/moon.npy'...\n",
            "Writing visualization file 'depth/moon.png'...\n",
            "Finished.\n"
          ]
        }
      ]
    },
    {
      "cell_type": "code",
      "metadata": {
        "colab": {
          "base_uri": "https://localhost:8080/"
        },
        "id": "8jW-hzy4_u8W",
        "outputId": "1e763a72-9b53-499a-de5a-e0a9d9e3bce8"
      },
      "source": [
        "!python main.py --config argument.yml"
      ],
      "execution_count": 22,
      "outputs": [
        {
          "output_type": "stream",
          "name": "stdout",
          "text": [
            "Creating Tiefenrausch model from files...\n",
            "  Init net: 'model/tiefenrausch_init.pb'\n",
            "  Predict net: 'model/tiefenrausch.pb'\n",
            "running on device 0\n",
            "\r  0% 0/1 [00:00<?, ?it/s]Current Source ==>  moon\n",
            "Running depth extraction at 1633473879.0374186\n",
            "Reading image file 'image/moon.jpg'...\n",
            "Writing depth file 'depth/moon.npy'...\n",
            "Writing visualization file 'depth/moon.png'...\n",
            "[INFO] the depth extraction took 1.566 seconds...\n",
            "Start Running 3D_Photo ...\n",
            "Loading edge model at 1633473891.3359532\n",
            "Loading depth model at 1633473894.164411\n",
            "Loading rgb model at 1633473899.5253117\n",
            "Writing depth ply (and basically doing everything) at 1633473904.732262\n",
            "Writing mesh file mesh/moon.ply ...\n",
            "[INFO] Writing polygons took 113.716 seconds...\n",
            "Making video at 1633474054.8711188\n",
            "fov: 53.13010235415598\n",
            "Moviepy - Building video video/moon_dolly-zoom-in.mp4.\n",
            "Moviepy - Writing video video/moon_dolly-zoom-in.mp4\n",
            "\n",
            "  0% 0/1 [03:37<?, ?it/s]\n",
            "t:   0% 0/241 [00:00<?, ?it/s, now=None]\u001b[A\n",
            "t:   5% 13/241 [00:00<00:01, 120.08it/s, now=None]\u001b[A\n",
            "t:  11% 26/241 [00:00<00:01, 116.68it/s, now=None]\u001b[A\n",
            "t:  16% 38/241 [00:00<00:01, 114.95it/s, now=None]\u001b[A\n",
            "t:  21% 50/241 [00:00<00:03, 60.93it/s, now=None] \u001b[A\n",
            "t:  24% 59/241 [00:01<00:04, 43.05it/s, now=None]\u001b[A\n",
            "t:  27% 66/241 [00:01<00:04, 38.76it/s, now=None]\u001b[A\n",
            "t:  30% 72/241 [00:01<00:05, 32.86it/s, now=None]\u001b[A\n",
            "t:  32% 77/241 [00:01<00:05, 30.57it/s, now=None]\u001b[A\n",
            "t:  34% 81/241 [00:01<00:05, 29.34it/s, now=None]\u001b[A\n",
            "t:  35% 85/241 [00:02<00:05, 28.71it/s, now=None]\u001b[A\n",
            "t:  37% 89/241 [00:02<00:05, 28.95it/s, now=None]\u001b[A\n",
            "t:  39% 93/241 [00:02<00:05, 27.40it/s, now=None]\u001b[A\n",
            "t:  40% 96/241 [00:02<00:05, 26.75it/s, now=None]\u001b[A\n",
            "t:  41% 99/241 [00:02<00:05, 27.22it/s, now=None]\u001b[A\n",
            "t:  42% 102/241 [00:02<00:05, 26.38it/s, now=None]\u001b[A\n",
            "t:  44% 106/241 [00:02<00:05, 26.73it/s, now=None]\u001b[A\n",
            "t:  45% 109/241 [00:02<00:05, 26.14it/s, now=None]\u001b[A\n",
            "t:  46% 112/241 [00:03<00:05, 25.67it/s, now=None]\u001b[A\n",
            "t:  48% 115/241 [00:03<00:04, 26.20it/s, now=None]\u001b[A\n",
            "t:  49% 118/241 [00:03<00:04, 25.44it/s, now=None]\u001b[A\n",
            "t:  50% 121/241 [00:03<00:04, 25.50it/s, now=None]\u001b[A\n",
            "t:  51% 124/241 [00:03<00:04, 25.75it/s, now=None]\u001b[A\n",
            "t:  53% 127/241 [00:03<00:04, 24.96it/s, now=None]\u001b[A\n",
            "t:  54% 130/241 [00:03<00:04, 24.71it/s, now=None]\u001b[A\n",
            "t:  55% 133/241 [00:03<00:04, 24.38it/s, now=None]\u001b[A\n",
            "t:  56% 136/241 [00:04<00:04, 24.61it/s, now=None]\u001b[A\n",
            "t:  58% 139/241 [00:04<00:03, 25.71it/s, now=None]\u001b[A\n",
            "t:  59% 142/241 [00:04<00:03, 25.04it/s, now=None]\u001b[A\n",
            "t:  61% 146/241 [00:04<00:03, 25.90it/s, now=None]\u001b[A\n",
            "t:  62% 149/241 [00:04<00:03, 25.10it/s, now=None]\u001b[A\n",
            "t:  63% 152/241 [00:04<00:03, 25.56it/s, now=None]\u001b[A\n",
            "t:  64% 155/241 [00:04<00:03, 25.68it/s, now=None]\u001b[A\n",
            "t:  66% 158/241 [00:04<00:03, 25.75it/s, now=None]\u001b[A\n",
            "t:  67% 161/241 [00:05<00:03, 25.28it/s, now=None]\u001b[A\n",
            "t:  68% 164/241 [00:05<00:03, 25.12it/s, now=None]\u001b[A\n",
            "t:  69% 167/241 [00:05<00:02, 24.78it/s, now=None]\u001b[A\n",
            "t:  71% 170/241 [00:05<00:03, 23.60it/s, now=None]\u001b[A\n",
            "t:  72% 173/241 [00:05<00:02, 24.69it/s, now=None]\u001b[A\n",
            "t:  73% 176/241 [00:05<00:02, 26.05it/s, now=None]\u001b[A\n",
            "t:  74% 179/241 [00:05<00:02, 25.48it/s, now=None]\u001b[A\n",
            "t:  76% 182/241 [00:05<00:02, 25.16it/s, now=None]\u001b[A\n",
            "t:  77% 185/241 [00:06<00:02, 24.73it/s, now=None]\u001b[A\n",
            "t:  78% 188/241 [00:06<00:02, 25.03it/s, now=None]\u001b[A\n",
            "t:  79% 191/241 [00:06<00:02, 24.09it/s, now=None]\u001b[A\n",
            "t:  81% 195/241 [00:06<00:01, 25.27it/s, now=None]\u001b[A\n",
            "t:  82% 198/241 [00:06<00:01, 25.99it/s, now=None]\u001b[A\n",
            "t:  83% 201/241 [00:06<00:01, 24.61it/s, now=None]\u001b[A\n",
            "t:  85% 205/241 [00:06<00:01, 25.28it/s, now=None]\u001b[A\n",
            "t:  86% 208/241 [00:06<00:01, 25.03it/s, now=None]\u001b[A\n",
            "t:  88% 211/241 [00:07<00:01, 25.17it/s, now=None]\u001b[A\n",
            "t:  89% 214/241 [00:07<00:01, 25.66it/s, now=None]\u001b[A\n",
            "t:  90% 217/241 [00:07<00:00, 25.62it/s, now=None]\u001b[A\n",
            "t:  91% 220/241 [00:07<00:00, 24.85it/s, now=None]\u001b[A\n",
            "t:  93% 223/241 [00:07<00:00, 25.71it/s, now=None]\u001b[A\n",
            "t:  94% 226/241 [00:07<00:00, 24.94it/s, now=None]\u001b[A\n",
            "t:  95% 229/241 [00:07<00:00, 24.66it/s, now=None]\u001b[A\n",
            "t:  96% 232/241 [00:07<00:00, 24.70it/s, now=None]\u001b[A\n",
            "t:  98% 235/241 [00:07<00:00, 24.98it/s, now=None]\u001b[A\n",
            "t:  99% 238/241 [00:08<00:00, 25.81it/s, now=None]\u001b[A\n",
            "t: 100% 241/241 [00:08<00:00, 24.78it/s, now=None]\u001b[A\n",
            "Moviepy - Done !\n",
            "Moviepy - video ready video/moon_dolly-zoom-in.mp4\n",
            "Moviepy - Building video video/moon_zoom-in.mp4.\n",
            "Moviepy - Writing video video/moon_zoom-in.mp4\n",
            "\n",
            "  0% 0/1 [04:24<?, ?it/s]\n",
            "t:   0% 0/241 [00:00<?, ?it/s, now=None]\u001b[A\n",
            "t:   5% 13/241 [00:00<00:01, 126.74it/s, now=None]\u001b[A\n",
            "t:  11% 26/241 [00:00<00:01, 126.77it/s, now=None]\u001b[A\n",
            "t:  16% 39/241 [00:00<00:01, 125.00it/s, now=None]\u001b[A\n",
            "t:  22% 52/241 [00:00<00:03, 52.90it/s, now=None] \u001b[A\n",
            "t:  25% 61/241 [00:01<00:04, 36.13it/s, now=None]\u001b[A\n",
            "t:  28% 68/241 [00:01<00:05, 31.00it/s, now=None]\u001b[A\n",
            "t:  30% 73/241 [00:01<00:05, 28.76it/s, now=None]\u001b[A\n",
            "t:  32% 77/241 [00:01<00:06, 26.33it/s, now=None]\u001b[A\n",
            "t:  34% 81/241 [00:02<00:06, 23.83it/s, now=None]\u001b[A\n",
            "t:  35% 84/241 [00:02<00:06, 23.41it/s, now=None]\u001b[A\n",
            "t:  36% 87/241 [00:02<00:07, 21.52it/s, now=None]\u001b[A\n",
            "t:  38% 91/241 [00:02<00:07, 21.29it/s, now=None]\u001b[A\n",
            "t:  39% 95/241 [00:02<00:07, 20.67it/s, now=None]\u001b[A\n",
            "t:  41% 98/241 [00:03<00:06, 21.48it/s, now=None]\u001b[A\n",
            "t:  42% 101/241 [00:03<00:06, 22.01it/s, now=None]\u001b[A\n",
            "t:  43% 104/241 [00:03<00:06, 20.39it/s, now=None]\u001b[A\n",
            "t:  44% 107/241 [00:03<00:06, 19.49it/s, now=None]\u001b[A\n",
            "t:  46% 111/241 [00:03<00:06, 19.81it/s, now=None]\u001b[A\n",
            "t:  47% 114/241 [00:03<00:06, 21.04it/s, now=None]\u001b[A\n",
            "t:  49% 117/241 [00:04<00:06, 19.61it/s, now=None]\u001b[A\n",
            "t:  50% 120/241 [00:04<00:05, 20.89it/s, now=None]\u001b[A\n",
            "t:  51% 123/241 [00:04<00:05, 19.82it/s, now=None]\u001b[A\n",
            "t:  52% 126/241 [00:04<00:05, 21.85it/s, now=None]\u001b[A\n",
            "t:  54% 129/241 [00:04<00:05, 19.89it/s, now=None]\u001b[A\n",
            "t:  55% 132/241 [00:04<00:05, 19.81it/s, now=None]\u001b[A\n",
            "t:  56% 135/241 [00:04<00:05, 18.54it/s, now=None]\u001b[A\n",
            "t:  58% 139/241 [00:05<00:05, 19.01it/s, now=None]\u001b[A\n",
            "t:  59% 143/241 [00:05<00:05, 19.36it/s, now=None]\u001b[A\n",
            "t:  61% 147/241 [00:05<00:04, 19.64it/s, now=None]\u001b[A\n",
            "t:  63% 151/241 [00:05<00:04, 20.02it/s, now=None]\u001b[A\n",
            "t:  64% 154/241 [00:05<00:04, 21.18it/s, now=None]\u001b[A\n",
            "t:  65% 157/241 [00:05<00:03, 21.62it/s, now=None]\u001b[A\n",
            "t:  66% 160/241 [00:06<00:04, 19.93it/s, now=None]\u001b[A\n",
            "t:  68% 163/241 [00:06<00:04, 19.39it/s, now=None]\u001b[A\n",
            "t:  69% 167/241 [00:06<00:03, 19.40it/s, now=None]\u001b[A\n",
            "t:  71% 170/241 [00:06<00:03, 21.32it/s, now=None]\u001b[A\n",
            "t:  72% 173/241 [00:06<00:03, 21.15it/s, now=None]\u001b[A\n",
            "t:  73% 176/241 [00:06<00:03, 19.66it/s, now=None]\u001b[A\n",
            "t:  74% 179/241 [00:07<00:03, 19.12it/s, now=None]\u001b[A\n",
            "t:  76% 182/241 [00:07<00:02, 20.18it/s, now=None]\u001b[A\n",
            "t:  77% 185/241 [00:07<00:02, 20.41it/s, now=None]\u001b[A\n",
            "t:  78% 188/241 [00:07<00:02, 19.82it/s, now=None]\u001b[A\n",
            "t:  79% 191/241 [00:07<00:02, 19.03it/s, now=None]\u001b[A\n",
            "t:  81% 195/241 [00:07<00:02, 19.01it/s, now=None]\u001b[A\n",
            "t:  83% 199/241 [00:08<00:02, 19.45it/s, now=None]\u001b[A\n",
            "t:  84% 202/241 [00:08<00:01, 20.16it/s, now=None]\u001b[A\n",
            "t:  85% 205/241 [00:08<00:01, 21.26it/s, now=None]\u001b[A\n",
            "t:  86% 208/241 [00:08<00:01, 19.28it/s, now=None]\u001b[A\n",
            "t:  88% 211/241 [00:08<00:01, 18.53it/s, now=None]\u001b[A\n",
            "t:  89% 214/241 [00:08<00:01, 20.64it/s, now=None]\u001b[A\n",
            "t:  90% 217/241 [00:09<00:01, 20.25it/s, now=None]\u001b[A\n",
            "t:  91% 220/241 [00:09<00:01, 18.84it/s, now=None]\u001b[A\n",
            "t:  93% 223/241 [00:09<00:00, 18.78it/s, now=None]\u001b[A\n",
            "t:  94% 226/241 [00:09<00:00, 19.54it/s, now=None]\u001b[A\n",
            "t:  95% 229/241 [00:09<00:00, 19.20it/s, now=None]\u001b[A\n",
            "t:  96% 231/241 [00:09<00:00, 18.24it/s, now=None]\u001b[A\n",
            "t:  97% 234/241 [00:09<00:00, 20.05it/s, now=None]\u001b[A\n",
            "t:  98% 237/241 [00:10<00:00, 20.50it/s, now=None]\u001b[A\n",
            "t: 100% 240/241 [00:10<00:00, 19.47it/s, now=None]\u001b[A\n",
            "Moviepy - Done !\n",
            "Moviepy - video ready video/moon_zoom-in.mp4\n",
            "Moviepy - Building video video/moon_circle.mp4.\n",
            "Moviepy - Writing video video/moon_circle.mp4\n",
            "\n",
            "  0% 0/1 [05:13<?, ?it/s]\n",
            "t:   0% 0/241 [00:00<?, ?it/s, now=None]\u001b[A\n",
            "t:   5% 12/241 [00:00<00:01, 117.90it/s, now=None]\u001b[A\n",
            "t:  10% 25/241 [00:00<00:01, 117.46it/s, now=None]\u001b[A\n",
            "t:  15% 37/241 [00:00<00:01, 115.77it/s, now=None]\u001b[A\n",
            "t:  20% 49/241 [00:00<00:03, 59.62it/s, now=None] \u001b[A\n",
            "t:  24% 58/241 [00:01<00:05, 35.20it/s, now=None]\u001b[A\n",
            "t:  27% 64/241 [00:01<00:05, 29.63it/s, now=None]\u001b[A\n",
            "t:  29% 69/241 [00:01<00:06, 26.18it/s, now=None]\u001b[A\n",
            "t:  30% 73/241 [00:01<00:06, 24.90it/s, now=None]\u001b[A\n",
            "t:  32% 77/241 [00:02<00:07, 23.15it/s, now=None]\u001b[A\n",
            "t:  33% 80/241 [00:02<00:07, 22.06it/s, now=None]\u001b[A\n",
            "t:  34% 83/241 [00:02<00:07, 20.73it/s, now=None]\u001b[A\n",
            "t:  36% 87/241 [00:02<00:07, 19.96it/s, now=None]\u001b[A\n",
            "t:  37% 90/241 [00:02<00:06, 21.62it/s, now=None]\u001b[A\n",
            "t:  39% 93/241 [00:03<00:07, 20.49it/s, now=None]\u001b[A\n",
            "t:  40% 96/241 [00:03<00:07, 18.91it/s, now=None]\u001b[A\n",
            "t:  41% 99/241 [00:03<00:07, 17.98it/s, now=None]\u001b[A\n",
            "t:  43% 103/241 [00:03<00:07, 18.21it/s, now=None]\u001b[A\n",
            "t:  44% 106/241 [00:03<00:06, 19.37it/s, now=None]\u001b[A\n",
            "t:  45% 109/241 [00:03<00:06, 19.27it/s, now=None]\u001b[A\n",
            "t:  46% 111/241 [00:04<00:07, 17.42it/s, now=None]\u001b[A\n",
            "t:  47% 114/241 [00:04<00:06, 19.66it/s, now=None]\u001b[A\n",
            "t:  49% 117/241 [00:04<00:06, 19.14it/s, now=None]\u001b[A\n",
            "t:  49% 119/241 [00:04<00:06, 17.66it/s, now=None]\u001b[A\n",
            "t:  51% 123/241 [00:04<00:06, 17.84it/s, now=None]\u001b[A\n",
            "t:  52% 126/241 [00:04<00:06, 18.47it/s, now=None]\u001b[A\n",
            "t:  53% 128/241 [00:04<00:06, 18.70it/s, now=None]\u001b[A\n",
            "t:  54% 131/241 [00:05<00:06, 18.09it/s, now=None]\u001b[A\n",
            "t:  56% 134/241 [00:05<00:05, 18.03it/s, now=None]\u001b[A\n",
            "t:  57% 138/241 [00:05<00:05, 20.27it/s, now=None]\u001b[A\n",
            "t:  59% 141/241 [00:05<00:04, 20.05it/s, now=None]\u001b[A\n",
            "t:  60% 144/241 [00:05<00:05, 19.14it/s, now=None]\u001b[A\n",
            "t:  61% 146/241 [00:05<00:05, 18.73it/s, now=None]\u001b[A\n",
            "t:  62% 149/241 [00:06<00:04, 20.28it/s, now=None]\u001b[A\n",
            "t:  63% 152/241 [00:06<00:04, 18.61it/s, now=None]\u001b[A\n",
            "t:  64% 154/241 [00:06<00:04, 18.89it/s, now=None]\u001b[A\n",
            "t:  65% 156/241 [00:06<00:04, 19.15it/s, now=None]\u001b[A\n",
            "t:  66% 158/241 [00:06<00:04, 17.62it/s, now=None]\u001b[A\n",
            "t:  67% 161/241 [00:06<00:04, 18.71it/s, now=None]\u001b[A\n",
            "t:  68% 163/241 [00:06<00:04, 18.38it/s, now=None]\u001b[A\n",
            "t:  69% 166/241 [00:06<00:03, 19.53it/s, now=None]\u001b[A\n",
            "t:  70% 168/241 [00:07<00:03, 19.38it/s, now=None]\u001b[A\n",
            "t:  71% 171/241 [00:07<00:03, 18.77it/s, now=None]\u001b[A\n",
            "t:  72% 174/241 [00:07<00:03, 19.04it/s, now=None]\u001b[A\n",
            "t:  73% 177/241 [00:07<00:03, 19.59it/s, now=None]\u001b[A\n",
            "t:  74% 179/241 [00:07<00:03, 19.00it/s, now=None]\u001b[A\n",
            "t:  76% 182/241 [00:07<00:02, 21.61it/s, now=None]\u001b[A\n",
            "t:  77% 185/241 [00:07<00:02, 19.77it/s, now=None]\u001b[A\n",
            "t:  78% 188/241 [00:08<00:02, 18.70it/s, now=None]\u001b[A\n",
            "t:  79% 190/241 [00:08<00:02, 18.37it/s, now=None]\u001b[A\n",
            "t:  80% 193/241 [00:08<00:02, 18.68it/s, now=None]\u001b[A\n",
            "t:  81% 195/241 [00:08<00:02, 18.02it/s, now=None]\u001b[A\n",
            "t:  82% 198/241 [00:08<00:02, 19.20it/s, now=None]\u001b[A\n",
            "t:  83% 200/241 [00:08<00:02, 18.54it/s, now=None]\u001b[A\n",
            "t:  84% 202/241 [00:08<00:02, 17.79it/s, now=None]\u001b[A\n",
            "t:  85% 204/241 [00:08<00:02, 17.75it/s, now=None]\u001b[A\n",
            "t:  86% 207/241 [00:09<00:01, 17.79it/s, now=None]\u001b[A\n",
            "t:  87% 210/241 [00:09<00:01, 19.51it/s, now=None]\u001b[A\n",
            "t:  88% 212/241 [00:09<00:01, 19.08it/s, now=None]\u001b[A\n",
            "t:  89% 215/241 [00:09<00:01, 17.99it/s, now=None]\u001b[A\n",
            "t:  91% 219/241 [00:09<00:01, 18.28it/s, now=None]\u001b[A\n",
            "t:  92% 222/241 [00:09<00:00, 19.59it/s, now=None]\u001b[A\n",
            "t:  93% 224/241 [00:10<00:00, 18.91it/s, now=None]\u001b[A\n",
            "t:  94% 227/241 [00:10<00:00, 18.12it/s, now=None]\u001b[A\n",
            "t:  95% 230/241 [00:10<00:00, 19.75it/s, now=None]\u001b[A\n",
            "t:  97% 233/241 [00:10<00:00, 19.80it/s, now=None]\u001b[A\n",
            "t:  98% 236/241 [00:10<00:00, 19.13it/s, now=None]\u001b[A\n",
            "t:  99% 239/241 [00:10<00:00, 18.50it/s, now=None]\u001b[A\n",
            "Moviepy - Done !\n",
            "Moviepy - video ready video/moon_circle.mp4\n",
            "Moviepy - Building video video/moon_swing.mp4.\n",
            "Moviepy - Writing video video/moon_swing.mp4\n",
            "\n",
            "  0% 0/1 [06:02<?, ?it/s]\n",
            "t:   0% 0/241 [00:00<?, ?it/s, now=None]\u001b[A\n",
            "t:   0% 1/241 [00:00<01:22,  2.91it/s, now=None]\u001b[A\n",
            "t:   5% 12/241 [00:00<00:06, 34.26it/s, now=None]\u001b[A\n",
            "t:  10% 23/241 [00:00<00:03, 54.93it/s, now=None]\u001b[A\n",
            "t:  14% 34/241 [00:00<00:02, 69.53it/s, now=None]\u001b[A\n",
            "t:  19% 46/241 [00:00<00:02, 80.80it/s, now=None]\u001b[A\n",
            "t:  23% 56/241 [00:01<00:05, 33.42it/s, now=None]\u001b[A\n",
            "t:  26% 63/241 [00:01<00:06, 28.58it/s, now=None]\u001b[A\n",
            "t:  29% 69/241 [00:02<00:06, 27.51it/s, now=None]\u001b[A\n",
            "t:  31% 74/241 [00:02<00:06, 24.26it/s, now=None]\u001b[A\n",
            "t:  32% 78/241 [00:02<00:07, 22.85it/s, now=None]\u001b[A\n",
            "t:  34% 82/241 [00:02<00:07, 21.95it/s, now=None]\u001b[A\n",
            "t:  35% 85/241 [00:02<00:07, 21.36it/s, now=None]\u001b[A\n",
            "t:  37% 88/241 [00:03<00:07, 19.79it/s, now=None]\u001b[A\n",
            "t:  38% 91/241 [00:03<00:07, 18.87it/s, now=None]\u001b[A\n",
            "t:  39% 94/241 [00:03<00:07, 19.82it/s, now=None]\u001b[A\n",
            "t:  40% 97/241 [00:03<00:07, 18.87it/s, now=None]\u001b[A\n",
            "t:  41% 99/241 [00:03<00:08, 17.32it/s, now=None]\u001b[A\n",
            "t:  42% 102/241 [00:03<00:07, 18.53it/s, now=None]\u001b[A\n",
            "t:  43% 104/241 [00:03<00:07, 18.22it/s, now=None]\u001b[A\n",
            "t:  44% 106/241 [00:04<00:07, 18.27it/s, now=None]\u001b[A\n",
            "t:  45% 108/241 [00:04<00:07, 17.93it/s, now=None]\u001b[A\n",
            "t:  46% 111/241 [00:04<00:07, 17.03it/s, now=None]\u001b[A\n",
            "t:  47% 114/241 [00:04<00:06, 18.80it/s, now=None]\u001b[A\n",
            "t:  48% 116/241 [00:04<00:07, 17.33it/s, now=None]\u001b[A\n",
            "t:  49% 119/241 [00:04<00:07, 17.18it/s, now=None]\u001b[A\n",
            "t:  51% 123/241 [00:05<00:06, 17.57it/s, now=None]\u001b[A\n",
            "t:  52% 126/241 [00:05<00:05, 19.29it/s, now=None]\u001b[A\n",
            "t:  53% 128/241 [00:05<00:06, 18.76it/s, now=None]\u001b[A\n",
            "t:  54% 130/241 [00:05<00:06, 17.73it/s, now=None]\u001b[A\n",
            "t:  55% 133/241 [00:05<00:06, 17.78it/s, now=None]\u001b[A\n",
            "t:  56% 135/241 [00:05<00:06, 17.15it/s, now=None]\u001b[A\n",
            "t:  57% 138/241 [00:05<00:05, 19.72it/s, now=None]\u001b[A\n",
            "t:  59% 141/241 [00:06<00:05, 19.12it/s, now=None]\u001b[A\n",
            "t:  59% 143/241 [00:06<00:05, 16.64it/s, now=None]\u001b[A\n",
            "t:  61% 146/241 [00:06<00:04, 19.44it/s, now=None]\u001b[A\n",
            "t:  62% 149/241 [00:06<00:05, 17.88it/s, now=None]\u001b[A\n",
            "t:  63% 151/241 [00:06<00:05, 16.81it/s, now=None]\u001b[A\n",
            "t:  64% 154/241 [00:06<00:04, 17.58it/s, now=None]\u001b[A\n",
            "t:  65% 157/241 [00:06<00:04, 18.66it/s, now=None]\u001b[A\n",
            "t:  66% 159/241 [00:07<00:04, 17.92it/s, now=None]\u001b[A\n",
            "t:  67% 162/241 [00:07<00:03, 20.48it/s, now=None]\u001b[A\n",
            "t:  68% 165/241 [00:07<00:03, 19.62it/s, now=None]\u001b[A\n",
            "t:  70% 168/241 [00:07<00:03, 18.98it/s, now=None]\u001b[A\n",
            "t:  71% 172/241 [00:07<00:03, 20.29it/s, now=None]\u001b[A\n",
            "t:  73% 175/241 [00:07<00:03, 21.41it/s, now=None]\u001b[A\n",
            "t:  74% 178/241 [00:07<00:03, 20.13it/s, now=None]\u001b[A\n",
            "t:  76% 182/241 [00:08<00:02, 19.85it/s, now=None]\u001b[A\n",
            "t:  77% 185/241 [00:08<00:02, 20.62it/s, now=None]\u001b[A\n",
            "t:  78% 188/241 [00:08<00:02, 20.30it/s, now=None]\u001b[A\n",
            "t:  79% 191/241 [00:08<00:02, 18.78it/s, now=None]\u001b[A\n",
            "t:  80% 194/241 [00:08<00:02, 18.25it/s, now=None]\u001b[A\n",
            "t:  82% 197/241 [00:08<00:02, 19.44it/s, now=None]\u001b[A\n",
            "t:  83% 199/241 [00:09<00:02, 18.97it/s, now=None]\u001b[A\n",
            "t:  84% 202/241 [00:09<00:02, 17.39it/s, now=None]\u001b[A\n",
            "t:  85% 205/241 [00:09<00:01, 19.69it/s, now=None]\u001b[A\n",
            "t:  86% 208/241 [00:09<00:01, 18.28it/s, now=None]\u001b[A\n",
            "t:  87% 210/241 [00:09<00:01, 16.95it/s, now=None]\u001b[A\n",
            "t:  88% 213/241 [00:09<00:01, 16.88it/s, now=None]\u001b[A\n",
            "t:  90% 216/241 [00:10<00:01, 18.44it/s, now=None]\u001b[A\n",
            "t:  90% 218/241 [00:10<00:01, 17.31it/s, now=None]\u001b[A\n",
            "t:  92% 221/241 [00:10<00:01, 19.72it/s, now=None]\u001b[A\n",
            "t:  93% 224/241 [00:10<00:00, 19.28it/s, now=None]\u001b[A\n",
            "t:  94% 226/241 [00:10<00:00, 16.90it/s, now=None]\u001b[A\n",
            "t:  95% 229/241 [00:10<00:00, 18.22it/s, now=None]\u001b[A\n",
            "t:  96% 231/241 [00:10<00:00, 17.85it/s, now=None]\u001b[A\n",
            "t:  97% 234/241 [00:11<00:00, 16.72it/s, now=None]\u001b[A\n",
            "t:  98% 236/241 [00:11<00:00, 17.35it/s, now=None]\u001b[A\n",
            "t:  99% 238/241 [00:11<00:00, 17.21it/s, now=None]\u001b[A\n",
            "Moviepy - Done !\n",
            "Moviepy - video ready video/moon_swing.mp4\n",
            "  0% 0/1 [06:15<?, ?it/s][INFO] Generating videos took 199.883 seconds...\n",
            "100% 1/1 [06:15<00:00, 375.80s/it]\n"
          ]
        }
      ]
    },
    {
      "cell_type": "code",
      "metadata": {
        "id": "R59Gg0Fznq3F"
      },
      "source": [
        "!rm video/*\n",
        "!rm depth/*"
      ],
      "execution_count": 21,
      "outputs": []
    }
  ]
}